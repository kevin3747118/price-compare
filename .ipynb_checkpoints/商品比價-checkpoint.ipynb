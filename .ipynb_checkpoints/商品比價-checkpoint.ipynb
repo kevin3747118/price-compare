{
 "cells": [
  {
   "cell_type": "code",
   "execution_count": 186,
   "metadata": {
    "collapsed": false,
    "nbpresent": {
     "id": "01641c17-d8ff-49ef-bef8-3ebe579e6cbc"
    }
   },
   "outputs": [],
   "source": [
    "# import urllib.request\n",
    "from bs4 import BeautifulSoup\n",
    "import requests\n",
    "\n",
    "momo_url = 'http://www.momoshop.com.tw/mosearch/iphone7%20plus%20128g.html'\n",
    "pchome_url = 'http://ecshweb.pchome.com.tw/search/v3.3/all/results?q=PS4%20CUH&page=1&sort=rnk/dc'\n",
    "\n",
    "# result = urllib.request.urlopen(pchome_url)\n",
    "\n",
    "# result = requests.get(url=pchome_url)\n",
    "# parse_result = BeautifulSoup(result.text, 'lxml')\n",
    "# html_result = BeautifulSoup(urllib.request.urlopen(pchome_url), 'lxml')\n",
    "# html_result = BeautifulSoup(requests.get(pchome_url).text, 'lxml')"
   ]
  },
  {
   "cell_type": "code",
   "execution_count": 737,
   "metadata": {
    "collapsed": false,
    "nbpresent": {
     "id": "98cbadcb-d349-407e-95f0-0c0c76f54a01"
    }
   },
   "outputs": [],
   "source": [
    "def get_page(url):\n",
    "    \n",
    "    from bs4 import BeautifulSoup\n",
    "    import urllib.request\n",
    "    import random\n",
    "    \n",
    "    request = urllib.request.Request(url)\n",
    "    \n",
    "    ####隨機header挑選####\n",
    "    foo = [\n",
    "      'Mozilla/5.0 (Macintosh; Intel Mac OS X 10_10_1) AppleWebKit/537.36 (KHTML, like Gecko) Chrome/41.0.2227.1 Safari/537.36', \n",
    "      'Mozilla/5.0 (compatible, MSIE 11, Windows NT 6.3; Trident/7.0; rv:11.0) like Gecko',\n",
    "      'Mozilla/5.0 (Windows NT 6.1; WOW64; rv:40.0) Gecko/20100101 Firefox/40.1'\n",
    "      'Mozilla/5.0 (Macintosh; U; Intel Mac OS X 10_6_7; da-dk) AppleWebKit/533.21.1 (KHTML, like Gecko) Version/5.0.5 Safari/533.21.1'\n",
    "      'Mozilla/5.0 (Windows NT 10.0; Win64; x64) AppleWebKit/537.36 (KHTML, like Gecko) Chrome/42.0.2311.135 Safari/537.36 Edge/12.246'\n",
    "      'Mozilla/5.0 (Windows NT 6.1; Win64; x64) AppleWebKit/537.36 (KHTML, like Gecko) Chrome/52.0.2722.0 Safari/537.36'\n",
    "      'Mozilla/5.0 (Windows NT 6.3; Win64; x64) AppleWebKit/537.36 (KHTML, like Gecko) Chrome/53.0.2785.116 Safari/537.36'\n",
    "    ]\n",
    "    headers = str(random.choice(foo))\n",
    "    ####隨機header挑選####\n",
    "    \n",
    "    request.add_header('User-Agent', headers) \n",
    "    response = urllib.request.urlopen(request, timeout=180)\n",
    "    html = BeautifulSoup(response.read().decode('utf-8'), 'lxml')\n",
    "    return html\n",
    "\n",
    "\n",
    "def get_page2(url):\n",
    "    \n",
    "    from bs4 import BeautifulSoup\n",
    "    import urllib.request\n",
    "    import random\n",
    "    \n",
    "    request = urllib.request.Request(url)\n",
    "    \n",
    "    ####隨機header挑選####\n",
    "    foo = [\n",
    "      'Mozilla/5.0 (Macintosh; Intel Mac OS X 10_10_1) AppleWebKit/537.36 (KHTML, like Gecko) Chrome/41.0.2227.1 Safari/537.36', \n",
    "      'Mozilla/5.0 (compatible, MSIE 11, Windows NT 6.3; Trident/7.0; rv:11.0) like Gecko',\n",
    "      'Mozilla/5.0 (Windows NT 6.1; WOW64; rv:40.0) Gecko/20100101 Firefox/40.1'\n",
    "      'Mozilla/5.0 (Macintosh; U; Intel Mac OS X 10_6_7; da-dk) AppleWebKit/533.21.1 (KHTML, like Gecko) Version/5.0.5 Safari/533.21.1'\n",
    "      'Mozilla/5.0 (Windows NT 10.0; Win64; x64) AppleWebKit/537.36 (KHTML, like Gecko) Chrome/42.0.2311.135 Safari/537.36 Edge/12.246'\n",
    "      'Mozilla/5.0 (Windows NT 6.1; Win64; x64) AppleWebKit/537.36 (KHTML, like Gecko) Chrome/52.0.2722.0 Safari/537.36'\n",
    "      'Mozilla/5.0 (Windows NT 6.3; Win64; x64) AppleWebKit/537.36 (KHTML, like Gecko) Chrome/53.0.2785.116 Safari/537.36'\n",
    "    ]\n",
    "#     headers = str(random.choice(foo))\n",
    "    ####隨機header挑選####\n",
    "    \n",
    "    request.add_header('User-Agent', headers={\n",
    "            'Accept':'text/html,application/xhtml+xml,application/xml;q=0.9,image/webp,*/*;q=0.8',\n",
    "            'Accept-Encoding':'gzip, deflate, sdch',\n",
    "            'Accept-Language:en-US,en;q=0.8\n",
    "            Connection:keep-alive\n",
    "        }) \n",
    "    response = urllib.request.urlopen(request, timeout=180)\n",
    "    html = BeautifulSoup(response.read().decode('big5'), 'lxml')\n",
    "    return html\n",
    "\n",
    "def momo():\n",
    "    \n",
    "    result = get_page(momo_url)\n",
    "    \n",
    "    momo = list()\n",
    "    for i in result.find_all('ul', {'id':'chessboard'}):\n",
    "        for x in i.find_all(['a', 'b']):\n",
    "            if x.text != '' and len(momo) != 8:\n",
    "                momo.append(x.text)\n",
    "    \n",
    "    ####將結果變成list裡面包tuple(產品, 價格)####\n",
    "    momo_display = list()\n",
    "    a, b = 0, 2\n",
    "    x = int(len(momo)/2)\n",
    "    while x != 0:\n",
    "        momo_display.append(tuple(momo[a:b]))\n",
    "        x -= 1\n",
    "        a, b = b, b+2\n",
    "    ####將結果變成list裡面包tuple(產品, 價格)####\n",
    "    \n",
    "    return momo_display\n",
    "\n",
    "\n",
    "\n",
    "def pchome():\n",
    "    \n",
    "    import json\n",
    "    \n",
    "    pchome = get_page('http://ecshweb.pchome.com.tw/search/v3.3/all/results?q=iphone7%20plus%20128g&page=1&sort=rnk/dc')\n",
    "    \n",
    "    pchome_data = dict()\n",
    "    for x in pchome.find_all('p'):\n",
    "        item_data = json.loads(x.text)\n",
    "        pchome_data = item_data['prods'][:4]\n",
    "    \n",
    "    pchome_display = [(i['name'], i['price']) for i in pchome_data]\n",
    "    \n",
    "    return pchome_display\n",
    "\n",
    "\n",
    "\n",
    "def payeasy():\n",
    "    \n",
    "    terms = requests.compat.quote('iphone7 128g payeasy') \n",
    "    result = get_page('https://www.google.com.tw/search?&q=' + terms + '&oq=' + terms)\n",
    "    \n",
    "    payeasy_list = list()\n",
    "    for url in result.find_all('h3', {'class':'r'}):\n",
    "        for url2 in url:\n",
    "            if 'EcCategoryV2' in url2['href']:\n",
    "                payeasy_list.append(url2['href'])\n",
    "                \n",
    "    payeasy_web_content = get_page(payeasy_list[1])\n",
    "    \n",
    "    payeasy_result = list()\n",
    "    for x in payeasy_web_content.find_all('p', {'class':['ProductName', 'ProducPrice']}):\n",
    "        payeasy_result.append(x.text)\n",
    "    \n",
    "    payeasy_display = [x.strip('\\r\\n').strip(' ').strip('NT$').rstrip('購買') for x in payeasy_result][:8]\n",
    "    \n",
    "    ####將結果變成list裡面包tuple(產品, 價格)####\n",
    "    payeasy_display2 = list()\n",
    "    a, b = 0, 2\n",
    "    x = int(len(payeasy_display)/2)\n",
    "    while x != 0:\n",
    "        payeasy_display2.append(tuple(payeasy_display[a:b]))\n",
    "        x -= 1\n",
    "        a, b = b, b+2\n",
    "    ####將結果變成list裡面包tuple(產品, 價格)####\n",
    "\n",
    "    return payeasy_display2"
   ]
  },
  {
   "cell_type": "code",
   "execution_count": 297,
   "metadata": {
    "collapsed": false,
    "nbpresent": {
     "id": "912f46ec-9a84-49c6-b757-9848f562dc41"
    }
   },
   "outputs": [],
   "source": [
    "header = {\n",
    "    'Connection': 'keep-alive',\n",
    "    'Cache-Control': 'max-age=0',\n",
    "    'Upgrade-Insecure-Requests': '1',\n",
    "    'User-Agent': 'Mozilla/5.0 (X11; Linux x86_64) AppleWebKit/537.36 (KHTML, like Gecko) Chrome/56.0.2924.21 Safari/537.36',\n",
    "    'Accept':'text/html,application/xhtml+xml,application/xml;q=0.9,image/webp,*/*;q=0.8',\n",
    "    'Accept-Encoding': 'gzip, deflate, sdch',\n",
    "    'Accept-Language': 'en-US,en;q=0.8'\n",
    "}\n",
    "\n",
    "req = urllib.request.Request(pchome_url, headers=header)\n",
    "text = urllib.request.urlopen(req)\n",
    "BeautifulSoup(response.read().decode('utf-8'), 'lxml')"
   ]
  },
  {
   "cell_type": "code",
   "execution_count": 770,
   "metadata": {
    "collapsed": false,
    "nbpresent": {
     "id": "0aaea5e7-691f-4b64-94bb-f2223b523fd0"
    }
   },
   "outputs": [],
   "source": [
    "def get_page_pez(url):\n",
    "    \n",
    "    import random\n",
    "    from bs4 import BeautifulSoup\n",
    "    import urllib.request\n",
    "    \n",
    "    request = urllib.request.Request(url)\n",
    "    \n",
    "    ####randon header here####\n",
    "    foo = [\n",
    "      'Mozilla/5.0 (Macintosh; Intel Mac OS X 10_10_1) AppleWebKit/537.36 (KHTML, like Gecko) Chrome/41.0.2227.1 Safari/537.36', \n",
    "      'Mozilla/5.0 (compatible, MSIE 11, Windows NT 6.3; Trident/7.0; rv:11.0) like Gecko',\n",
    "      'Mozilla/5.0 (Windows NT 6.1; WOW64; rv:40.0) Gecko/20100101 Firefox/40.1'\n",
    "      'Mozilla/5.0 (Macintosh; U; Intel Mac OS X 10_6_7; da-dk) AppleWebKit/533.21.1 (KHTML, like Gecko) Version/5.0.5 Safari/533.21.1'\n",
    "      'Mozilla/5.0 (Windows NT 10.0; Win64; x64) AppleWebKit/537.36 (KHTML, like Gecko) Chrome/42.0.2311.135 Safari/537.36 Edge/12.246'\n",
    "      'Mozilla/5.0 (Windows NT 6.1; Win64; x64) AppleWebKit/537.36 (KHTML, like Gecko) Chrome/52.0.2722.0 Safari/537.36'\n",
    "      'Mozilla/5.0 (Windows NT 6.3; Win64; x64) AppleWebKit/537.36 (KHTML, like Gecko) Chrome/53.0.2785.116 Safari/537.36'\n",
    "    ]\n",
    "    headers = str(random.choice(foo))\n",
    "    ####randon header here####\n",
    "    \n",
    "    request.add_header('User-Agent', headers)\n",
    "    response = urllib.request.urlopen(request, timeout=180)\n",
    "    html = BeautifulSoup(response.read().decode('big5'), 'lxml')\n",
    "    response.close()\n",
    "    \n",
    "    return html\n",
    "\n",
    "# pchome = get_page2('http://ecshweb.pchome.com.tw/search/v3.3/all/results?q=iphone7&page=1')"
   ]
  },
  {
   "cell_type": "code",
   "execution_count": 139,
   "metadata": {
    "collapsed": false,
    "nbpresent": {
     "id": "b9cc4f54-5e68-4f38-b259-634c39f4fdaa"
    }
   },
   "outputs": [],
   "source": [
    "from bs4 import BeautifulSoup\n",
    "import urllib.request\n",
    "# import requests\n",
    "import random\n",
    "\n",
    "class price_compare():\n",
    "    \n",
    "\n",
    "    def __init__(self, product_name):\n",
    "        \n",
    "        self.product_name = product_name ####產品名稱\n",
    "#         self.display_counts = display_counts ####顯示次數\n",
    "        self.encode_pro_name = urllib.parse.quote(product_name) ####url encode\n",
    "        \n",
    "        self.__momo_url = 'http://www.momoshop.com.tw/mosearch/' + self.encode_pro_name + '.html'\n",
    "        self.__pchome_url = 'http://ecshweb.pchome.com.tw/search/v3.3/all/results?q=' + self.encode_pro_name + '&page=1&sort=rnk/dc'\n",
    "    \n",
    "    \n",
    "    def get_page(self, url):\n",
    "\n",
    "        request = urllib.request.Request(url)\n",
    "\n",
    "        ####隨機header挑選####\n",
    "        foo = [\n",
    "            'Mozilla/5.0 (Macintosh; Intel Mac OS X 10_10_1) AppleWebKit/537.36 (KHTML, like Gecko) Chrome/41.0.2227.1 Safari/537.36',\n",
    "            'Mozilla/5.0 (compatible, MSIE 11, Windows NT 6.3; Trident/7.0; rv:11.0) like Gecko',\n",
    "            'Mozilla/5.0 (Windows NT 6.1; WOW64; rv:40.0) Gecko/20100101 Firefox/40.1'\n",
    "            'Mozilla/5.0 (Macintosh; U; Intel Mac OS X 10_6_7; da-dk) AppleWebKit/533.21.1 (KHTML, like Gecko) Version/5.0.5 Safari/533.21.1'\n",
    "            'Mozilla/5.0 (Windows NT 10.0; Win64; x64) AppleWebKit/537.36 (KHTML, like Gecko) Chrome/42.0.2311.135 Safari/537.36 Edge/12.246'\n",
    "            'Mozilla/5.0 (Windows NT 6.1; Win64; x64) AppleWebKit/537.36 (KHTML, like Gecko) Chrome/52.0.2722.0 Safari/537.36'\n",
    "            'Mozilla/5.0 (Windows NT 6.3; Win64; x64) AppleWebKit/537.36 (KHTML, like Gecko) Chrome/53.0.2785.116 Safari/537.36'\n",
    "        ]\n",
    "        headers = str(random.choice(foo))\n",
    "        ####隨機header挑選####\n",
    "\n",
    "        request.add_header('User-Agent', headers)\n",
    "        response = urllib.request.urlopen(request, timeout=180)\n",
    "        html = BeautifulSoup(response.read().decode('utf-8'), 'lxml')\n",
    "        response.close()\n",
    "\n",
    "        return html\n",
    "    \n",
    "    def get_page2(self, url):\n",
    "\n",
    "        request = urllib.request.Request(url)\n",
    "        \n",
    "        ####隨機header挑選####\n",
    "        foo = [\n",
    "            'Mozilla/5.0 (Macintosh; Intel Mac OS X 10_10_1) AppleWebKit/537.36 (KHTML, like Gecko) Chrome/41.0.2227.1 Safari/537.36',\n",
    "            'Mozilla/5.0 (compatible, MSIE 11, Windows NT 6.3; Trident/7.0; rv:11.0) like Gecko',\n",
    "            'Mozilla/5.0 (Windows NT 6.1; WOW64; rv:40.0) Gecko/20100101 Firefox/40.1'\n",
    "            'Mozilla/5.0 (Macintosh; U; Intel Mac OS X 10_6_7; da-dk) AppleWebKit/533.21.1 (KHTML, li e Gecko) Version/5.0.5 Safari/533.21.1'\n",
    "            'Mozilla/5.0 (Windows NT 10.0; Win64; x64) AppleWebKit/537.36 (KHTML, like Gecko) Chrome/42.0.2311.135 Safari/537.36 Edge/12.246'\n",
    "            'Mozilla/5.0 (Windows NT 6.1; Win64; x64) AppleWebKit/537.36 (KHTML, like Gecko) Chrome/52.0.2722.0 Safari/537.36'\n",
    "            'Mozilla/5.0 (Windows NT 6.3; Win64; x64) AppleWebKit/537.36 (KHTML, like Gecko) Chrome/53.0.2785.116 Safari/537.36'\n",
    "        ]\n",
    "        headers = str(random.choice(foo))\n",
    "        ####隨機header挑選####\n",
    "\n",
    "        request.add_header('User-Agent', headers)\n",
    "        response = urllib.request.urlopen(request, timeout=180)\n",
    "        html = BeautifulSoup(response.read().decode('big5'), 'lxml')\n",
    "        response.close()\n",
    "\n",
    "        return html\n",
    "    \n",
    "\n",
    "    def momo(self):\n",
    "\n",
    "        result = self.get_page(self.__momo_url)\n",
    "\n",
    "        momo = list()\n",
    "        \n",
    "        if result.find_all('ul', {'id': 'chessboard'}):\n",
    "            for i in result.find_all('ul', {'id': 'chessboard'}):\n",
    "                for x in i.find_all(['a', 'b']):\n",
    "#                 if x.text != '' and len(momo) != 8:\n",
    "                    if x.text != '':\n",
    "                        momo.append(x.text)\n",
    "            \n",
    "        else:\n",
    "            for i in result.find_all('script'):\n",
    "                momo_goods_url = i.text.strip('location.href=').strip(';').strip('\\'\"').replace(',','')\n",
    "            momo_goods_detail = self.get_page2(momo_goods_url)\n",
    "            for i in momo_goods_detail.find_all('div', {'class':'prdnoteArea'}):\n",
    "                momo.append(i.find('h1').text)\n",
    "            for price in i.find('span'):\n",
    "                momo.append(price.replace(',',''))\n",
    "            \n",
    "        ####將結果變成list裡面包tuple(產品, 價格)####\n",
    "        momo_display = list()\n",
    "        a, b = 0, 2\n",
    "        x = int(len(momo) / 2)\n",
    "        while x != 0:\n",
    "            momo_display.append(tuple(momo[a:b]))\n",
    "            x -= 1\n",
    "            a, b = b, b + 2\n",
    "        ####將結果變成list裡面包tuple(產品, 價格)####\n",
    "\n",
    "        return momo_display\n",
    "    \n",
    "\n",
    "    def pchome(self):\n",
    "\n",
    "        import json\n",
    "        \n",
    "        pchome = self.get_page(self.__pchome_url)\n",
    "\n",
    "        pchome_data = dict()\n",
    "        for x in pchome.find_all('p'):\n",
    "            item_data = json.loads(x.text)\n",
    "            pchome_data = item_data['prods']\n",
    "\n",
    "        pchome_display = [(i['name'], int(i['price'])) for i in pchome_data]\n",
    "\n",
    "        return pchome_display\n",
    "    \n",
    "    \n",
    "    def payeasy(self):\n",
    "\n",
    "        terms = self.encode_pro_name + '%20payeasy'\n",
    "        result = self.get_page('https://www.google.com.tw/search?&q=' + terms + '&oq=' + terms)\n",
    "\n",
    "        payeasy_EC = list()\n",
    "        payeasy_PD = list()\n",
    "        for url in result.find_all('h3', {'class':'r'}):\n",
    "            for url2 in url:\n",
    "                try:\n",
    "                    if 'EcCategoryV2' in url2['href']:\n",
    "                        payeasy_EC.append(url2['href'])\n",
    "                    if 'ProductDetail' in url2['href']:\n",
    "                        payeasy_PD.append(url2['href'])\n",
    "                except Exception:\n",
    "                    pass\n",
    "#         return payeasy_EC, payeasy_PD\n",
    "                \n",
    "        payeasy_EC_result = list()   \n",
    "        payeasy_PD_result = list()  \n",
    "           #?page=1&sort=2&direction=1#filterTool\n",
    "        if payeasy_EC:\n",
    "            payeasy_get_web_page = self.get_page(payeasy_EC[0])\n",
    "            pages = list()\n",
    "            for i in payeasy_get_web_page.find_all('div', {'class':'pagination'}):\n",
    "                for x in i.find_all('span'):\n",
    "                    pages = [range(1, int(u)+1) for u in x if u.isdigit()]\n",
    "            for page in pages[0]:\n",
    "#                 print(payeasy_EC[0] + '?page=' + str(page) + '&sort=2&direction=1#filterTool')\n",
    "                payeasy_web_content = self.get_page(payeasy_EC[0] + '?page=' + str(page) + '&sort=2&direction=1#filterTool')\n",
    "                for x in payeasy_web_content.find_all('p', {'class':['ProductName', 'ProducPrice']}):\n",
    "                    payeasy_EC_result.append(x.text)\n",
    "        else:\n",
    "            payeasy_web_content = self.get_page(payeasy_PD[0])\n",
    "            for x in payeasy_web_content.find_all('div', {'class':'product_info_area'}):\n",
    "                for pro_name in x.find_all('h1', {'class':'pro_name_cn'}):\n",
    "                    payeasy_PD_result.append(pro_name.text)\n",
    "                for price in x.find_all('div', {'class':'price_001'}):\n",
    "                    payeasy_PD_result.append(price.find_next('b').text)\n",
    "\n",
    "#         if payeasy_PD:\n",
    "#             payeasy_web_content = self.get_page(payeasy_PD[0])\n",
    "#             for x in payeasy_web_content.find_all('div', {'class':'product_info_area'}):\n",
    "#                 for pro_name in x.find_all('h1', {'class':'pro_name_cn'}):\n",
    "#                     payeasy_PD_result.append(pro_name.text)\n",
    "#                 for price in x.find_all('div', {'class':'price_001'}):\n",
    "#                     payeasy_PD_result.append(price.find_next('b').text)\n",
    "\n",
    "\n",
    "        payeasy_display = list()\n",
    "        if payeasy_EC_result:\n",
    "            payeasy_display = [x.strip('\\r\\n').strip(' ').strip('NT$').rstrip('購買').replace(',','').strip('購買\\n福登入享福利獨享價') for x in payeasy_EC_result]\n",
    "        if payeasy_PD_result:\n",
    "            payeasy_display = [x.replace(',','') for x in payeasy_PD_result]\n",
    "\n",
    "\n",
    "        ####將結果變成list裡面包tuple(產品, 價格)####\n",
    "        payeasy_display2 = list()\n",
    "        a, b = 0, 2\n",
    "        x = int(len(payeasy_display) / 2)\n",
    "        while x != 0:\n",
    "            payeasy_display2.append(tuple(payeasy_display[a:b]))\n",
    "            x -= 1\n",
    "            a, b = b, b + 2\n",
    "        ####將結果變成list裡面包tuple(產品, 價格)####\n",
    "\n",
    "        return payeasy_display2\n",
    "    \n",
    "    \n",
    "    def gohappy(self):\n",
    "\n",
    "    import json\n",
    "    \n",
    "    def gohappy_getpages():\n",
    "        \n",
    "        gohappy_url = 'http://www.gohappy.com.tw/ec2/searchCate'\n",
    "        parameters = {'searchs':'aveda', 'pageno':'0', 'pagesize':'20', 'orderby':'close', 'cateLvs':'-1', 'watchtype':'1'}\n",
    "\n",
    "    r = requests.post(gohappy_url, params = parameters)\n",
    "    r_json = json.loads(r.text)\n",
    "    r_bs = BeautifulSoup(r_json.get('data').get('form'), 'lxml')\n",
    "\n",
    "    parse_time = None\n",
    "    for pages in r_bs.find_all('ul', {'class': 'pagenum'}):\n",
    "        gohappy_page = pages.text.replace('\\n', '')\n",
    "        page_index = gohappy_page.find('共')\n",
    "        parse_time = int(gohappy_page[page_index + 1 :].replace('頁', ''))\n",
    "\n",
    "    gohappy = list()\n",
    "    for elements in r_bs.find_all('ol', {'class': 'proddata-list'}):\n",
    "        for product in elements.find_all('li', {'class': 'prodname'}):\n",
    "            gohappy.append(product.text.replace('\\n', ''))\n",
    "        for price_tag in elements.find_all('li', {'class': 'price-txt'}):\n",
    "            for price in price_tag.find_all('strong'):\n",
    "        gohappy.append(price.text)\n",
    "\n",
    "    \n",
    "    def to_ES(self):\n",
    "        \n",
    "        from elasticsearch import Elasticsearch\n",
    "        es = Elasticsearch([{'host': '10.10.110.155', 'port': 9200}])\n",
    "        \n",
    "        momo_data = self.momo()\n",
    "        pchome_data = self.pchome()\n",
    "        payeasy_data = self.payeasy()\n",
    "        \n",
    "        \n",
    "        ####計算資料的index####\n",
    "        def counter():\n",
    "            len_all = len(momo_data + pchome_data + payeasy_data)\n",
    "            yield from range(len_all)\n",
    "        counter = counter()\n",
    "        ####計算資料的index####\n",
    "        \n",
    "        ####insert momo data into elasticsearch#####\n",
    "        momo_dict = dict()\n",
    "\n",
    "        for i in range(len(momo_data)):\n",
    "            momo_dict['name'] = momo_data[i][0]\n",
    "            momo_dict['price'] = int(momo_data[i][1])\n",
    "            momo_dict['company'] = 'momo'\n",
    "            es.index(index='product', doc_type='3C', id=next(counter), body=momo_dict)\n",
    "        ####insert momo data into elasticsearch#####\n",
    "            \n",
    "        ####insert pchome data into elasticsearch####     \n",
    "        pchome_dict = dict()\n",
    "\n",
    "        for i in range(len(pchome_data)):\n",
    "            pchome_dict['name'] = pchome_data[i][0]\n",
    "            pchome_dict['price'] = int(pchome_data[i][1])\n",
    "            pchome_dict['company'] = 'pchome'\n",
    "            es.index(index='product', doc_type='3C', id=next(counter), body=pchome_dict)\n",
    "        ####insert pchome data into elasticsearch####\n",
    "          \n",
    "        ####insert payeasy data into elasticsearch####     \n",
    "        payeasy_dict = dict()\n",
    "\n",
    "        for i in range(len(payeasy_data)):\n",
    "            payeasy_dict['name'] = payeasy_data[i][0]\n",
    "            payeasy_dict['price'] = int(payeasy_data[i][1])\n",
    "            payeasy_dict['company'] = 'payeasy'\n",
    "            es.index(index='product', doc_type='3C', id=next(counter), body=payeasy_dict)\n",
    "        ####insert payeasy data into elasticsearch####"
   ]
  },
  {
   "cell_type": "code",
   "execution_count": 178,
   "metadata": {
    "collapsed": false,
    "nbpresent": {
     "id": "d62eebb9-d132-4261-975c-fe1e05636fb4"
    }
   },
   "outputs": [],
   "source": [
    "# price = price_compare('KENBOO(男)-後座力 雙撞色夜螢光運動鞋')\n",
    "# price = price_compare('iphone7 plus 128GB')\n",
    "# price = price_compare('復原配方洗髮精(250ml)')\n",
    "# price = price_compare('皮革清潔保養乳')\n",
    "price = price_compare('MIZUNO 手套')"
   ]
  },
  {
   "cell_type": "code",
   "execution_count": 179,
   "metadata": {
    "collapsed": false
   },
   "outputs": [
    {
     "data": {
      "text/plain": [
       "[('MIZUNO 少年右打者打擊手套-棒球 壘球 黑紅@1EJEY13009@', '424'),\n",
       " ('棒壘球投打練習器', '3500'),\n",
       " ('MIZUNO 打擊手套-棒球 壘球 一雙入 美津濃 灰黑白@330286.9191@', '848'),\n",
       " ('MIZUNO 打擊手套-棒球 壘球 一雙入 美津濃 橘白黑@330286.2020@', '848'),\n",
       " ('MIZUNO 打擊手套-棒球 壘球 一雙入 美津濃 黑白@330286.9000@', '848'),\n",
       " ('MIZUNO 打擊手套-棒球 壘球 一雙入 美津濃 白黑@330286.8585@', '848'),\n",
       " ('MIZUNO 打擊手套-棒球 壘球 一雙入 美津濃 藍黑白@330286.5252@', '848'),\n",
       " ('MIZUNO 打擊手套-棒球 壘球 一雙入 美津濃 丈青白@330286.5151@', '848'),\n",
       " ('MIZUNO 打擊手套-棒球 壘球 一雙入 美津濃 紅黑白@330286.1010@', '848'),\n",
       " ('MIZUNO 慢速壘球楓木棒-棒球 球棒 棒球棍 美津濃 白紅藍@1CTWH65327@', '1838'),\n",
       " ('MIZUNO 慢速壘球楓木棒-棒球 球棒 棒球棍 美津濃 黑白@1CTWH65301@', '1838'),\n",
       " ('MIZUNO 慢速壘球楓木棒-棒球 球棒 棒球棍 美津濃 咖啡黃@1CTWH65250@', '1838'),\n",
       " ('MIZUNO 硬式手套-棒球 壘球 美津濃 丈青橘@1ATGH60517-5229@', '3212'),\n",
       " ('MIZUNO 慢速壘球楓木棒-棒球 球棒 棒球棍 美津濃 黑紅@1CTWH65262@', '1838'),\n",
       " ('MIZUNO 慢速壘球楓木棒-棒球 球棒 棒球棍 美津濃 咖啡藍@1CTWH65227@', '1838'),\n",
       " ('MIZUNO 硬式手套-棒球 壘球 美津濃 橘紅@1ATGH60517-52@', '3212'),\n",
       " ('MIZUNO 右打者用打擊手套-棒球 壘球 左手用 一只入 美津濃 黑紅白@1ETEA60716@', '444'),\n",
       " ('MIZUNO 右打者用打擊手套-棒球 壘球 左手用 一只入 美津濃 黑灰藍@1ETEA60707@', '444'),\n",
       " ('OAKLEY RADARLOCK EV 棒球外野用太陽眼鏡 - 抗UV 紅黑@OAK-OO9275-14@', '7110'),\n",
       " ('MIZUNO 日製高級保革霜-棒壘球 配件 美津濃 依賣場@1GJYG50000@', '676'),\n",
       " ('MIZUNO 慢速壘球楓木棒- 棒球 美津濃 淡棕黑@1CTWH60202@', '2404'),\n",
       " ('INSTAR PRO 男魂緊身長褲-健身 路跑 緊身褲 束褲 黑@3117801@', '454'),\n",
       " ('MIZUNO 男滑壘褲- 棒球 壘球 美津濃 黑灰@12TB4P2009@', '1030'),\n",
       " ('【強生CHANSON】我是投手-棒球九宮格(90X90)CS-90B★訓練、派對、遊戲', '4875')]"
      ]
     },
     "execution_count": 179,
     "metadata": {},
     "output_type": "execute_result"
    }
   ],
   "source": [
    "price.payeasy()"
   ]
  },
  {
   "cell_type": "code",
   "execution_count": 180,
   "metadata": {
    "collapsed": false
   },
   "outputs": [
    {
     "data": {
      "text/plain": [
       "[('【MIZUNO】打擊手套-棒球 壘球 一雙入 美津濃(紅黑白)', '840'),\n",
       " ('【MIZUNO】右打者用打擊手套-棒球 壘球 右手 美津濃(銀紅黑)', '520'),\n",
       " ('【MIZUNO】打擊手套-棒球 壘球 一雙入 美津濃(藍黑白)', '840'),\n",
       " ('【MIZUNO】硬式手套-棒球 壘球 美津濃(橘紅)', '3180'),\n",
       " ('【MIZUNO】打擊手套-棒球 壘球 一雙入 美津濃(丈青白)', '840'),\n",
       " ('【MIZUNO】硬式手套-棒球 壘球 美津濃(丈青橘)', '3180'),\n",
       " ('【Mizuno】打擊手套 1ETEA40412(深藍X寶藍)', '380'),\n",
       " ('【Mizuno】打擊手套 1ETEA40424(寶藍X黃)', '380'),\n",
       " ('【Mizuno】打擊手套 THUNDER 330266.9090(黑)', '830'),\n",
       " ('【MIZUNO】少年右打者打擊手套-棒球 壘球(黑紅)', '420'),\n",
       " ('【Mizuno】少年打擊手套 右撇子用(黑x紅 1EJEY13009)', '450'),\n",
       " ('【MIZUNO】右打者用打擊手套-棒球 壘球 左手用 一只入 美津濃(黑灰藍)', '440'),\n",
       " ('【MIZUNO】右打者用打擊手套-棒球 壘球 左手用 一只入 美津濃(黑紅白)', '440'),\n",
       " ('【MIZUNO】打擊手套-棒球 壘球 一雙入 美津濃(橘白黑)', '840'),\n",
       " ('【MIZUNO】打擊手套-棒球 壘球 一雙入 美津濃(黑白)', '840'),\n",
       " ('【MIZUNO】打擊手套-棒球 壘球 一雙入 美津濃(灰黑白)', '840'),\n",
       " ('【MIZUNO】打擊手套-棒球 壘球 一雙入 美津濃(白黑)', '840'),\n",
       " ('【MIZUNO】美津濃 防曬袖套-反光LOGO-配件 自行車高爾夫 MIT台灣製(丈青)', '440'),\n",
       " ('【MIZUNO】美津濃 防曬袖套-反光LOGO-配件 自行車高爾夫 MIT台灣製(黑)', '440'),\n",
       " ('【MIZUNO】發熱袖套 -單車 自行車 保暖 蓄熱 美津濃(黑)', '781'),\n",
       " ('【MIZUNO】兩件組特價再 美津濃 防曬袖套-自行車 反光LOGO 高爾夫(其他)', '660')]"
      ]
     },
     "execution_count": 180,
     "metadata": {},
     "output_type": "execute_result"
    }
   ],
   "source": [
    "price.momo()"
   ]
  },
  {
   "cell_type": "code",
   "execution_count": 181,
   "metadata": {
    "collapsed": false
   },
   "outputs": [
    {
     "data": {
      "text/plain": [
       "[('【美津濃MIZUNO】5MJML60409(黑X黑)只 3D STRETCH 高爾夫手套', 380),\n",
       " ('【美津濃MIZUNO】330286.9000(黑X黑)VINTAGE PRO雙扣式腕帶棒壘打擊手套(雙)', 780),\n",
       " ('【美津濃MIZUNO】330286.1010(深紅X黑)VINTAGE PRO雙扣式腕帶棒壘打擊手套(雙)', 780),\n",
       " ('【美津濃MIZUNO】1ETEA61707(灰X藍X黑)服貼剪裁左打者用棒壘打擊手套(只)', 380),\n",
       " ('【美津濃MIZUNO】5MJML55427(淺灰X藍) 仿毛皮GOLF 手套', 390),\n",
       " ('【美津濃MIZUNO】330286.5252(藍X黑)VINTAGE PRO雙扣式腕帶棒壘打擊手套(雙)', 780),\n",
       " ('【美津濃MIZUNO】1ETEA60707(灰X藍X黑)服貼剪裁右打者用棒壘打擊手套(只)', 380),\n",
       " ('【美津濃MIZUNO】5MJML55409(淺灰X黑) 仿毛皮GOLF 手套', 390),\n",
       " ('【美津濃MIZUNO】330286.8585(迷彩X黑)VINTAGE PRO雙扣式腕帶棒壘打擊手套(雙)', 780),\n",
       " ('【美津濃MIZUNO】5MJML55462(淺灰X紅) 仿毛皮GOLF 手套', 390),\n",
       " ('【美津濃MIZUNO】1ETEA60716(紅X白X黑)服貼剪裁右打者用棒壘打擊手套(只)', 380),\n",
       " ('【美津濃MIZUNO】5MJML60401(白X黑)只    3D STRETCH 高爾夫手套', 380),\n",
       " ('【美津濃MIZUNO】330286.2020(橘X黑)VINTAGE PRO雙扣式腕帶棒壘打擊手套(雙)', 780),\n",
       " ('【美津濃MIZUNO】1ETEA61716(紅X白X黑)服貼剪裁左打者用棒壘打擊手套(只)', 380),\n",
       " ('【美津濃MIZUNO】1ETEA61795(橘X白X黑)服貼剪裁左打者用棒壘打擊手套(只)', 380),\n",
       " ('【美津濃MIZUNO】1ETEA60795(橘X白X黑)服貼剪裁右打者用棒壘打擊手套(只)', 380),\n",
       " ('Mizuno GOAT HI DURA 打擊手套 1EJEA11309', 888),\n",
       " ('Mizuno 美津濃 STARIA 硬式手套 (投手 / 右撇子用) 1ATGH60501', 3180),\n",
       " ('Mizuno 硬式手套 MIZUNO PRO (橘) 1AJGH11123', 14240),\n",
       " ('Mizuno FRIENDSHIP 壘球手套 1ATGS50870', 1888)]"
      ]
     },
     "execution_count": 181,
     "metadata": {},
     "output_type": "execute_result"
    }
   ],
   "source": [
    "price.pchome()"
   ]
  },
  {
   "cell_type": "code",
   "execution_count": 168,
   "metadata": {
    "collapsed": false,
    "nbpresent": {
     "id": "a80f6b88-3b46-428f-9088-8b61b8793734"
    }
   },
   "outputs": [],
   "source": [
    "price.to_ES()"
   ]
  },
  {
   "cell_type": "code",
   "execution_count": 142,
   "metadata": {
    "collapsed": true
   },
   "outputs": [],
   "source": [
    "from elasticsearch import Elasticsearch\n",
    "\n",
    "es = Elasticsearch([{'host': '10.10.110.155', 'port': 9200}])"
   ]
  },
  {
   "cell_type": "code",
   "execution_count": 163,
   "metadata": {
    "collapsed": false
   },
   "outputs": [
    {
     "data": {
      "text/plain": [
       "{'_shards': {'failed': 0, 'successful': 5, 'total': 5},\n",
       " 'hits': {'hits': [{'_id': '45',\n",
       "    '_index': 'product',\n",
       "    '_score': 2.0663652,\n",
       "    '_source': {'company': 'payeasy',\n",
       "     'name': '【SONY】PS4 500GB主機 (CUH - 1207)【加：副廠手把果凍套 + 副廠主機直立架】',\n",
       "     'price': 11450},\n",
       "    '_type': '3C'},\n",
       "   {'_id': '17',\n",
       "    '_index': 'product',\n",
       "    '_score': 1.999778,\n",
       "    '_source': {'company': 'pchome',\n",
       "     'name': 'SONY PS4主機 CUH-2017A系列500GB-極致黑',\n",
       "     'price': 11680},\n",
       "    '_type': '3C'},\n",
       "   {'_id': '31',\n",
       "    '_index': 'product',\n",
       "    '_score': 1.999778,\n",
       "    '_source': {'company': 'payeasy',\n",
       "     'name': 'SONY PS4主機 CUH-2017系列500GB-極致黑',\n",
       "     'price': 9980},\n",
       "    '_type': '3C'},\n",
       "   {'_id': '37',\n",
       "    '_index': 'product',\n",
       "    '_score': 1.7543509,\n",
       "    '_source': {'company': 'payeasy',\n",
       "     'name': 'SONY PS4 Slim 500G (CUH-2017系列) 主機 (台灣公司貨)+高質感主機收納包【限量加贈：造型類比套】',\n",
       "     'price': 10680},\n",
       "    '_type': '3C'},\n",
       "   {'_id': '1',\n",
       "    '_index': 'product',\n",
       "    '_score': 1.7198174,\n",
       "    '_source': {'company': 'momo',\n",
       "     'name': '【PS4主機】小藍同捆組-英雄版-500GB(CUH-2017AB01)',\n",
       "     'price': 11480},\n",
       "    '_type': '3C'},\n",
       "   {'_id': '13',\n",
       "    '_index': 'product',\n",
       "    '_score': 1.7198174,\n",
       "    '_source': {'company': 'pchome',\n",
       "     'name': 'SONY PS4主機 CUH-2017A系列500GB-極致黑',\n",
       "     'price': 10980},\n",
       "    '_type': '3C'},\n",
       "   {'_id': '16',\n",
       "    '_index': 'product',\n",
       "    '_score': 1.7198174,\n",
       "    '_source': {'company': 'pchome',\n",
       "     'name': 'SONY PS4主機 CUH-2017A系列500GB-極致黑',\n",
       "     'price': 10750},\n",
       "    '_type': '3C'},\n",
       "   {'_id': '14',\n",
       "    '_index': 'product',\n",
       "    '_score': 1.4555519,\n",
       "    '_source': {'company': 'pchome',\n",
       "     'name': 'SONY PS4主機 CUH-2017A系列500GB-極致黑',\n",
       "     'price': 10480},\n",
       "    '_type': '3C'},\n",
       "   {'_id': '22',\n",
       "    '_index': 'product',\n",
       "    '_score': 1.4555519,\n",
       "    '_source': {'company': 'pchome',\n",
       "     'name': 'PS4原廠 主機直立架-幻影透視(CUH-ZST2J)',\n",
       "     'price': 780},\n",
       "    '_type': '3C'},\n",
       "   {'_id': '43',\n",
       "    '_index': 'product',\n",
       "    '_score': 1.360692,\n",
       "    '_source': {'company': 'payeasy',\n",
       "     'name': '【SONY】PS4 500G CUH-1207 主機 + 第二隻手把 加贈:主機專用直立架《雙手把組》',\n",
       "     'price': 12760},\n",
       "    '_type': '3C'}],\n",
       "  'max_score': 2.0663652,\n",
       "  'total': 23},\n",
       " 'timed_out': False,\n",
       " 'took': 7}"
      ]
     },
     "execution_count": 163,
     "metadata": {},
     "output_type": "execute_result"
    }
   ],
   "source": [
    "es.search(index=\"product\", body={\"query\": {\"match\" : { \"name\" : {\"query\" : \"PS4 CUH 主機\", \"operator\" : \"and\"}}}})"
   ]
  },
  {
   "cell_type": "code",
   "execution_count": null,
   "metadata": {
    "collapsed": true
   },
   "outputs": [],
   "source": []
  },
  {
   "cell_type": "code",
   "execution_count": null,
   "metadata": {
    "collapsed": true
   },
   "outputs": [],
   "source": []
  },
  {
   "cell_type": "code",
   "execution_count": null,
   "metadata": {
    "collapsed": true
   },
   "outputs": [],
   "source": []
  },
  {
   "cell_type": "code",
   "execution_count": null,
   "metadata": {
    "collapsed": true
   },
   "outputs": [],
   "source": []
  },
  {
   "cell_type": "code",
   "execution_count": 169,
   "metadata": {
    "collapsed": false
   },
   "outputs": [
    {
     "data": {
      "text/plain": [
       "{'_id': '50',\n",
       " '_index': 'product',\n",
       " '_shards': {'failed': 0, 'successful': 1, 'total': 2},\n",
       " '_type': '3C',\n",
       " '_version': 1,\n",
       " 'created': True,\n",
       " 'result': 'created'}"
      ]
     },
     "execution_count": 169,
     "metadata": {},
     "output_type": "execute_result"
    }
   ],
   "source": [
    "es.index(index='product', doc_type='3C', id=50, body= {'name': '【Sam老師 UglyMaker】AVEDA 復原配方洗髮精 (450ml)', \n",
    "                                                       'price': 1200, 'company': 'Sam'})"
   ]
  },
  {
   "cell_type": "code",
   "execution_count": 177,
   "metadata": {
    "collapsed": false
   },
   "outputs": [
    {
     "data": {
      "text/plain": [
       "{'_shards': {'failed': 0, 'successful': 5, 'total': 5},\n",
       " 'hits': {'hits': [{'_id': '50',\n",
       "    '_index': 'product',\n",
       "    '_score': 14.94088,\n",
       "    '_source': {'company': 'Sam',\n",
       "     'name': '【Sam老師 UglyMaker】AVEDA 復原配方洗髮精 (450ml)',\n",
       "     'price': 1200},\n",
       "    '_type': '3C'}],\n",
       "  'max_score': 14.94088,\n",
       "  'total': 1},\n",
       " 'timed_out': False,\n",
       " 'took': 5}"
      ]
     },
     "execution_count": 177,
     "metadata": {},
     "output_type": "execute_result"
    }
   ],
   "source": [
    "es.search(index=\"product\", body={\"query\": {\"match\" : {\"name\" : {\"query\" : \"復原配方洗髮精 450ml\", \"operator\" : \"and\"}}}})\n",
    "# es.search(index=\"product\", body={\"query\":{\"match\":{\"name\":{\"query\":\"復原配方洗髮精\", \"fuzziness\": \"AUTO\",\"operator\":\"and\"}}}})"
   ]
  },
  {
   "cell_type": "code",
   "execution_count": null,
   "metadata": {
    "collapsed": true
   },
   "outputs": [],
   "source": [
    "es.get(index='product', doc_type='3C', id=44)"
   ]
  },
  {
   "cell_type": "code",
   "execution_count": 48,
   "metadata": {
    "collapsed": false,
    "nbpresent": {
     "id": "f777b726-20ae-4045-8ffe-ec22049e1f90"
    }
   },
   "outputs": [
    {
     "name": "stdout",
     "output_type": "stream",
     "text": [
      "{\n",
      "  \"name\" : \"cqfAD8U\",\n",
      "  \"cluster_name\" : \"elasticsearch\",\n",
      "  \"cluster_uuid\" : \"vTKUvCLvQJ-X3DFf00rUow\",\n",
      "  \"version\" : {\n",
      "    \"number\" : \"5.1.1\",\n",
      "    \"build_hash\" : \"5395e21\",\n",
      "    \"build_date\" : \"2016-12-06T12:36:15.409Z\",\n",
      "    \"build_snapshot\" : false,\n",
      "    \"lucene_version\" : \"6.3.0\"\n",
      "  },\n",
      "  \"tagline\" : \"You Know, for Search\"\n",
      "}\n",
      "\n"
     ]
    }
   ],
   "source": [
    "import requests\n",
    "res = requests.get('http://10.10.110.155:9200/')\n",
    "print(res.content.decode('utf-8'))"
   ]
  },
  {
   "cell_type": "code",
   "execution_count": 49,
   "metadata": {
    "collapsed": true,
    "nbpresent": {
     "id": "f291d0b4-2b0d-428f-99f5-93985ac76682"
    }
   },
   "outputs": [],
   "source": [
    "from elasticsearch import Elasticsearch\n",
    "es = Elasticsearch([{'host': '10.10.110.155', 'port': 9200}])"
   ]
  },
  {
   "cell_type": "code",
   "execution_count": 929,
   "metadata": {
    "collapsed": false,
    "nbpresent": {
     "id": "e6f755a6-b353-416a-af52-c26b76141851"
    }
   },
   "outputs": [],
   "source": [
    "# es_result = es.search(index=\"product\", body={\"query\":{\"match\":{\"name\":{\"query\":\"iphone 7 128g\",\"fuzziness\": \"AUTO\",\"operator\":\"and\"}}}})\n",
    "es_result = es.search(index=\"product\", body={\"size\" : 1000, \"query\":{\"match\":{\"name\":\"iphone 7 plus 128g\"}}})"
   ]
  },
  {
   "cell_type": "code",
   "execution_count": null,
   "metadata": {
    "collapsed": true,
    "nbpresent": {
     "id": "5fc82e21-f51a-43bf-8eb9-4706e21d617c"
    }
   },
   "outputs": [],
   "source": [
    "es_result['hits']"
   ]
  },
  {
   "cell_type": "code",
   "execution_count": 733,
   "metadata": {
    "collapsed": false,
    "nbpresent": {
     "id": "7ef4eeae-f50b-490f-a80e-7cd6d1c9c310"
    }
   },
   "outputs": [],
   "source": [
    "pez = get_page2('http://www.payeasy.com.tw/search/search3/index.html?q=iphone&lv=2')"
   ]
  },
  {
   "cell_type": "code",
   "execution_count": 747,
   "metadata": {
    "collapsed": false,
    "nbpresent": {
     "id": "4a42566b-a29b-4b36-a8ad-cadae376e802"
    }
   },
   "outputs": [],
   "source": [
    "test = urllib.request.urlopen('http://www.payeasy.com.tw/search/search3/index.html?q=mizuno&lv=2')"
   ]
  },
  {
   "cell_type": "code",
   "execution_count": 773,
   "metadata": {
    "collapsed": false,
    "nbpresent": {
     "id": "00abc9d8-1a1f-46ff-bcd3-b9b21519182b"
    }
   },
   "outputs": [],
   "source": [
    "haha = urllib.request.urlopen('http://www.payeasy.com.tw/search/search3/index.html?q=mizuno&lv=2')"
   ]
  },
  {
   "cell_type": "code",
   "execution_count": 815,
   "metadata": {
    "collapsed": false,
    "nbpresent": {
     "id": "56416e40-054d-4ad5-8e01-4476b8f548ba"
    }
   },
   "outputs": [],
   "source": [
    "headers = {\n",
    "    'Accept':'text/html,application/xhtml+xml,application/xml;q=0.9,image/webp,*/*;q=0.8',\n",
    "    'Accept-Encoding':'gzip, deflate, sdch',\n",
    "    'Accept-Language':'en-US,en;q=0.8',\n",
    "    'Cache-Control':'max-age=0',\n",
    "    'Connection':'keep-alive',\n",
    "    'Host':'www.payeasy.com.tw',\n",
    "    'If-Modified-Since':'Tue, 03 May 2016 06:01:44 GMT',\n",
    "    'Upgrade-Insecure-Requests':'1',\n",
    "    'User-Agent':'Mozilla/5.0 (X11; Linux x86_64) AppleWebKit/537.36 (KHTML, like Gecko) Chrome/56.0.2924.28 Safari/537.36'\n",
    "}\n",
    "data = {\"pidNum\":\"4752388\",\"webNum\":\"6351\"}\n",
    "\n",
    "ppp = requests.post('http://member.payeasy.com.tw/cart/REST/GetWelfareProducts?Params=%5B%7B%22pidNum%22%3A%224752388%22%2C%22webNum%22%3A%226351%22%7D%2C%7B%22pidNum%22%3A%224752330%22%2C%22webNum%22%3A%226351%22%7D%2C%7B%22pidNum%22%3A%224263763%22%2C%22webNum%22%3A%226351%22%7D%2C%7B%22pidNum%22%3A%224752348%22%2C%22webNum%22%3A%226351%22%7D%2C%7B%22pidNum%22%3A%224752234%22%2C%22webNum%22%3A%226351%22%7D%2C%7B%22pidNum%22%3A%224725028%22%2C%22webNum%22%3A%226351%22%7D%2C%7B%22pidNum%22%3A%224752382%22%2C%22webNum%22%3A%226351%22%7D%2C%7B%22pidNum%22%3A%224752179%22%2C%22webNum%22%3A%226351%22%7D%2C%7B%22pidNum%22%3A%224752314%22%2C%22webNum%22%3A%226351%22%7D%2C%7B%22pidNum%22%3A%224702346%22%2C%22webNum%22%3A%226351%22%7D%2C%7B%22pidNum%22%3A%224725049%22%2C%22webNum%22%3A%226351%22%7D%2C%7B%22pidNum%22%3A%224367873%22%2C%22webNum%22%3A%226351%22%7D%2C%7B%22pidNum%22%3A%224752163%22%2C%22webNum%22%3A%226351%22%7D%2C%7B%22pidNum%22%3A%224752202%22%2C%22webNum%22%3A%226351%22%7D%2C%7B%22pidNum%22%3A%224752354%22%2C%22webNum%22%3A%226351%22%7D%2C%7B%22pidNum%22%3A%223557623%22%2C%22webNum%22%3A%226771%22%7D%2C%7B%22pidNum%22%3A%223557705%22%2C%22webNum%22%3A%226771%22%7D%2C%7B%22pidNum%22%3A%223557700%22%2C%22webNum%22%3A%226771%22%7D%2C%7B%22pidNum%22%3A%223558051%22%2C%22webNum%22%3A%226771%22%7D%2C%7B%22pidNum%22%3A%223557710%22%2C%22webNum%22%3A%226771%22%7D%5D')"
   ]
  },
  {
   "cell_type": "code",
   "execution_count": 816,
   "metadata": {
    "collapsed": false,
    "nbpresent": {
     "id": "1da15dea-47e8-4111-ad92-8dfa1dbbc078"
    }
   },
   "outputs": [
    {
     "name": "stdout",
     "output_type": "stream",
     "text": [
      "{\"code\":\"OK\",\"items\":[{\"cartMaster\":{\"scmNum\":0,\"memNum\":0,\"productType\":\"Single\",\"modifyDate\":\"\\/Date(-62135596800000+0800)\\/\",\"prepareDay\":0,\"actRealPayment\":0.0,\"webNum\":0,\"coupons\":[]},\"cartDetails\":[{\"scdNum\":0,\"pidNum\":4752388,\"pidQty\":0,\"pidPromoDesc\":\"\",\"proMvalue\":7500.0,\"pidName\":\"MIZUNO眼鏡 β 鈦休閒/黑-銀 #MF1508 C12\",\"pidSvalue\":4500.0,\"pidPicPath1\":\"//images.payeasy.com.tw/products/4777/4749/4749737.JPG\",\"pidUrl\":\"http://www.payeasy.com.tw/ECShop/ProductDetail.jsp?pidnum=4752388\",\"maxSaleQty\":0,\"valid\":false,\"bestbuyProducts\":[],\"proWeigh\":0.0,\"isShowWelfareOnlyPrice\":false,\"welfareOnlyPrice\":0.0},{\"scdNum\":0,\"pidNum\":4752330,\"pidQty\":0,\"pidPromoDesc\":\"\",\"proMvalue\":7500.0,\"pidName\":\"MIZUNO眼鏡 β 鈦簡約/黑 #MF1404 C51\",\"pidSvalue\":4500.0,\"pidPicPath1\":\"//images.payeasy.com.tw/products/4777/4749/4749694.JPG\",\"pidUrl\":\"http://www.payeasy.com.tw/ECShop/ProductDetail.jsp?pidnum=4752330\",\"maxSaleQty\":0,\"valid\":false,\"bestbuyProducts\":[],\"proWeigh\":0.0,\"isShowWelfareOnlyPrice\":false,\"welfareOnlyPrice\":0.0},{\"scdNum\":0,\"pidNum\":4263763,\"pidQty\":0,\"pidPromoDesc\":\"\",\"proMvalue\":7500.0,\"pidName\":\"MIZUNO眼鏡 休閒半框/鐵灰-橘#MF1401N C24\",\"pidSvalue\":4500.0,\"pidPicPath1\":\"//images.payeasy.com.tw/products/4777/4274/4274068.JPG\",\"pidUrl\":\"http://www.payeasy.com.tw/ECShop/ProductDetail.jsp?pidnum=4263763\",\"maxSaleQty\":0,\"valid\":false,\"bestbuyProducts\":[],\"proWeigh\":0.0,\"isShowWelfareOnlyPrice\":false,\"welfareOnlyPrice\":0.0},{\"scdNum\":0,\"pidNum\":4752348,\"pidQty\":0,\"pidPromoDesc\":\"\",\"proMvalue\":7500.0,\"pidName\":\"MIZUNO眼鏡 β 鈦休閒/流線棕-紫 #MF1501 C36\",\"pidSvalue\":4500.0,\"pidPicPath1\":\"//images.payeasy.com.tw/products/4777/4749/4749712.JPG\",\"pidUrl\":\"http://www.payeasy.com.tw/ECShop/ProductDetail.jsp?pidnum=4752348\",\"maxSaleQty\":0,\"valid\":false,\"bestbuyProducts\":[],\"proWeigh\":0.0,\"isShowWelfareOnlyPrice\":false,\"welfareOnlyPrice\":0.0},{\"scdNum\":0,\"pidNum\":4752234,\"pidQty\":0,\"pidPromoDesc\":\"\",\"proMvalue\":7500.0,\"pidName\":\"MIZUNO眼鏡 β 鈦方框/黑-藍 #MF1401 C35\",\"pidSvalue\":4500.0,\"pidPicPath1\":\"//images.payeasy.com.tw/products/4777/4749/4749611.JPG\",\"pidUrl\":\"http://www.payeasy.com.tw/ECShop/ProductDetail.jsp?pidnum=4752234\",\"maxSaleQty\":0,\"valid\":false,\"bestbuyProducts\":[],\"proWeigh\":0.0,\"isShowWelfareOnlyPrice\":false,\"welfareOnlyPrice\":0.0},{\"scdNum\":0,\"pidNum\":4725028,\"pidQty\":0,\"pidPromoDesc\":\"\",\"proMvalue\":7500.0,\"pidName\":\"MIZUNO太陽眼鏡 β 鈦系列飛官/黑-水銀偏光鏡面 #MF232 C05B\",\"pidSvalue\":4500.0,\"pidPicPath1\":\"//images.payeasy.com.tw/products/4777/4722/4722084.JPG\",\"pidUrl\":\"http://www.payeasy.com.tw/ECShop/ProductDetail.jsp?pidnum=4725028\",\"maxSaleQty\":0,\"valid\":false,\"bestbuyProducts\":[],\"proWeigh\":0.0,\"isShowWelfareOnlyPrice\":false,\"welfareOnlyPrice\":0.0},{\"scdNum\":0,\"pidNum\":4752382,\"pidQty\":0,\"pidPromoDesc\":\"\",\"proMvalue\":7500.0,\"pidName\":\"MIZUNO眼鏡 β 鈦休閒/黑 #MF1508 C05\",\"pidSvalue\":4500.0,\"pidPicPath1\":\"//images.payeasy.com.tw/products/4777/4749/4749733.JPG\",\"pidUrl\":\"http://www.payeasy.com.tw/ECShop/ProductDetail.jsp?pidnum=4752382\",\"maxSaleQty\":0,\"valid\":false,\"bestbuyProducts\":[],\"proWeigh\":0.0,\"isShowWelfareOnlyPrice\":false,\"welfareOnlyPrice\":0.0},{\"scdNum\":0,\"pidNum\":4752179,\"pidQty\":0,\"pidPromoDesc\":\"\",\"proMvalue\":7500.0,\"pidName\":\"MIZUNO眼鏡 β 鈦方框/銀 #MF1316 C24\",\"pidSvalue\":4500.0,\"pidPicPath1\":\"//images.payeasy.com.tw/products/4777/4749/4749563.JPG\",\"pidUrl\":\"http://www.payeasy.com.tw/ECShop/ProductDetail.jsp?pidnum=4752179\",\"maxSaleQty\":0,\"valid\":false,\"bestbuyProducts\":[],\"proWeigh\":0.0,\"isShowWelfareOnlyPrice\":false,\"welfareOnlyPrice\":0.0},{\"scdNum\":0,\"pidNum\":4752314,\"pidQty\":0,\"pidPromoDesc\":\"\",\"proMvalue\":7500.0,\"pidName\":\"MIZUNO眼鏡 β 鈦簡約/銀 #MF1404 C41\",\"pidSvalue\":4500.0,\"pidPicPath1\":\"//images.payeasy.com.tw/products/4777/4749/4749665.JPG\",\"pidUrl\":\"http://www.payeasy.com.tw/ECShop/ProductDetail.jsp?pidnum=4752314\",\"maxSaleQty\":0,\"valid\":false,\"bestbuyProducts\":[],\"proWeigh\":0.0,\"isShowWelfareOnlyPrice\":false,\"welfareOnlyPrice\":0.0},{\"scdNum\":0,\"pidNum\":4702346,\"pidQty\":0,\"pidPromoDesc\":\"\",\"proMvalue\":6000.0,\"pidName\":\"MIZUNO眼鏡 鈦金屬系列/槍銀-黃 #MF802 C14\",\"pidSvalue\":3900.0,\"pidPicPath1\":\"//images.payeasy.com.tw/products/4777/4699/4699468.JPG\",\"pidUrl\":\"http://www.payeasy.com.tw/ECShop/ProductDetail.jsp?pidnum=4702346\",\"maxSaleQty\":0,\"valid\":false,\"bestbuyProducts\":[],\"proWeigh\":0.0,\"isShowWelfareOnlyPrice\":false,\"welfareOnlyPrice\":0.0},{\"scdNum\":0,\"pidNum\":4725049,\"pidQty\":0,\"pidPromoDesc\":\"\",\"proMvalue\":7500.0,\"pidName\":\"MIZUNO太陽眼鏡 β 鈦系列/槍銀 #MF233 C05\",\"pidSvalue\":4500.0,\"pidPicPath1\":\"//images.payeasy.com.tw/products/4777/4722/4722101.JPG\",\"pidUrl\":\"http://www.payeasy.com.tw/ECShop/ProductDetail.jsp?pidnum=4725049\",\"maxSaleQty\":0,\"valid\":false,\"bestbuyProducts\":[],\"proWeigh\":0.0,\"isShowWelfareOnlyPrice\":false,\"welfareOnlyPrice\":0.0},{\"scdNum\":0,\"pidNum\":4367873,\"pidQty\":0,\"pidPromoDesc\":\"\",\"proMvalue\":7500.0,\"pidName\":\"MIZUNO眼鏡 β鈦金屬系列/流線棕-金 #MF1501 C16\",\"pidSvalue\":4500.0,\"pidPicPath1\":\"//images.payeasy.com.tw/products/4777/4377/4377166.JPG\",\"pidUrl\":\"http://www.payeasy.com.tw/ECShop/ProductDetail.jsp?pidnum=4367873\",\"maxSaleQty\":0,\"valid\":false,\"bestbuyProducts\":[],\"proWeigh\":0.0,\"isShowWelfareOnlyPrice\":false,\"welfareOnlyPrice\":0.0},{\"scdNum\":0,\"pidNum\":4752163,\"pidQty\":0,\"pidPromoDesc\":\"\",\"proMvalue\":7500.0,\"pidName\":\"MIZUNO眼鏡 β 鈦方框/黑-紅 #MF1316 C5A\",\"pidSvalue\":4500.0,\"pidPicPath1\":\"//images.payeasy.com.tw/products/4777/4749/4749547.JPG\",\"pidUrl\":\"http://www.payeasy.com.tw/ECShop/ProductDetail.jsp?pidnum=4752163\",\"maxSaleQty\":0,\"valid\":false,\"bestbuyProducts\":[],\"proWeigh\":0.0,\"isShowWelfareOnlyPrice\":false,\"welfareOnlyPrice\":0.0},{\"scdNum\":0,\"pidNum\":4752202,\"pidQty\":0,\"pidPromoDesc\":\"\",\"proMvalue\":7500.0,\"pidName\":\"MIZUNO眼鏡 β 鈦方框/紫 #MF1317 C36\",\"pidSvalue\":4500.0,\"pidPicPath1\":\"//images.payeasy.com.tw/products/4777/4749/4749590.JPG\",\"pidUrl\":\"http://www.payeasy.com.tw/ECShop/ProductDetail.jsp?pidnum=4752202\",\"maxSaleQty\":0,\"valid\":false,\"bestbuyProducts\":[],\"proWeigh\":0.0,\"isShowWelfareOnlyPrice\":false,\"welfareOnlyPrice\":0.0},{\"scdNum\":0,\"pidNum\":4752354,\"pidQty\":0,\"pidPromoDesc\":\"\",\"proMvalue\":7500.0,\"pidName\":\"MIZUNO眼鏡 β 鈦大框/黑-銀 #MF1502 C12\",\"pidSvalue\":4500.0,\"pidPicPath1\":\"//images.payeasy.com.tw/products/4777/4749/4749719.JPG\",\"pidUrl\":\"http://www.payeasy.com.tw/ECShop/ProductDetail.jsp?pidnum=4752354\",\"maxSaleQty\":0,\"valid\":false,\"bestbuyProducts\":[],\"proWeigh\":0.0,\"isShowWelfareOnlyPrice\":false,\"welfareOnlyPrice\":0.0},{\"scdNum\":0,\"pidNum\":3557623,\"pidQty\":0,\"pidPromoDesc\":\"\",\"proMvalue\":1502.0,\"pidName\":\"MIZUNO 男長袖T恤-路跑 慢跑 運動T恤 美津濃 NXT系列 螢光綠黑@U2JA451137@\",\"pidSvalue\":1379.0,\"pidPicPath1\":\"//images.payeasy.com.tw/products/6355/3572/3572467.jpg\",\"pidUrl\":\"http://www.payeasy.com.tw/ECShop/ProductDetail.jsp?pidnum=3557623\",\"maxSaleQty\":0,\"valid\":false,\"bestbuyProducts\":[],\"proWeigh\":0.0,\"isShowWelfareOnlyPrice\":false,\"welfareOnlyPrice\":0.0},{\"scdNum\":0,\"pidNum\":3557705,\"pidQty\":0,\"pidPromoDesc\":\"\",\"proMvalue\":1544.0,\"pidName\":\"MIZUNO 男排球長袖T恤-運動T恤 美津濃 NXT系列 紅黑@V2JA459062@\",\"pidSvalue\":1418.0,\"pidPicPath1\":\"//images.payeasy.com.tw/products/6355/3572/3572500.jpg\",\"pidUrl\":\"http://www.payeasy.com.tw/ECShop/ProductDetail.jsp?pidnum=3557705\",\"maxSaleQty\":0,\"valid\":false,\"bestbuyProducts\":[],\"proWeigh\":0.0,\"isShowWelfareOnlyPrice\":false,\"welfareOnlyPrice\":0.0},{\"scdNum\":0,\"pidNum\":3557700,\"pidQty\":0,\"pidPromoDesc\":\"\",\"proMvalue\":1544.0,\"pidName\":\"MIZUNO 男排球長袖T恤-運動T恤 美津濃 NXT系列 湖水藍@V2JA459020@\",\"pidSvalue\":1418.0,\"pidPicPath1\":\"//images.payeasy.com.tw/products/6355/3572/3572495.jpg\",\"pidUrl\":\"http://www.payeasy.com.tw/ECShop/ProductDetail.jsp?pidnum=3557700\",\"maxSaleQty\":0,\"valid\":false,\"bestbuyProducts\":[],\"proWeigh\":0.0,\"isShowWelfareOnlyPrice\":false,\"welfareOnlyPrice\":0.0},{\"scdNum\":0,\"pidNum\":3558051,\"pidQty\":0,\"pidPromoDesc\":\"\",\"proMvalue\":1630.0,\"pidName\":\"MIZUNO 男網球長袖T恤-運動T恤 美津濃 NXT系列 黑銀@62JA459190@\",\"pidSvalue\":1497.0,\"pidPicPath1\":\"//images.payeasy.com.tw/products/6355/3572/3572455.jpg\",\"pidUrl\":\"http://www.payeasy.com.tw/ECShop/ProductDetail.jsp?pidnum=3558051\",\"maxSaleQty\":0,\"valid\":false,\"bestbuyProducts\":[],\"proWeigh\":0.0,\"isShowWelfareOnlyPrice\":false,\"welfareOnlyPrice\":0.0},{\"scdNum\":0,\"pidNum\":3557710,\"pidQty\":0,\"pidPromoDesc\":\"\",\"proMvalue\":1544.0,\"pidName\":\"MIZUNO 男排球長袖T恤-運動T恤 美津濃 NXT系列 黑金@V2JA459095@\",\"pidSvalue\":1418.0,\"pidPicPath1\":\"//images.payeasy.com.tw/products/6355/3572/3572505.jpg\",\"pidUrl\":\"http://www.payeasy.com.tw/ECShop/ProductDetail.jsp?pidnum=3557710\",\"maxSaleQty\":0,\"valid\":false,\"bestbuyProducts\":[],\"proWeigh\":0.0,\"isShowWelfareOnlyPrice\":false,\"welfareOnlyPrice\":0.0}]}]}\n"
     ]
    }
   ],
   "source": [
    "urllib.parse.u"
   ]
  },
  {
   "cell_type": "code",
   "execution_count": 160,
   "metadata": {
    "collapsed": true
   },
   "outputs": [],
   "source": [
    "import requests\n",
    "\n",
    "pchome = requests.get('http://ecshweb.pchome.com.tw/search/v3.3/?q=ps4%20cuh&scope=all')\n",
    "pchome_html = BeautifulSoup(pchome.text, 'lxml')"
   ]
  },
  {
   "cell_type": "code",
   "execution_count": 161,
   "metadata": {
    "collapsed": false
   },
   "outputs": [
    {
     "data": {
      "text/plain": [
       "<!DOCTYPE html PUBLIC \"-//W3C//DTD XHTML 1.0 Transitional//EN\" \"http://www.w3.org/TR/xhtml1/DTD/xhtml1-transitional.dtd\">\n",
       "<html xmlns=\"http://www.w3.org/1999/xhtml\">\n",
       "<head>\n",
       "<meta content=\"text/html; charset=utf-8\" http-equiv=\"Content-Type\"/>\n",
       "<meta content=\"zh-tw\" http-equiv=\"Content-Language\"/>\n",
       "<meta content=\"IE=edge\" http-equiv=\"X-UA-Compatible\"/>\n",
       "<meta content=\"CPfgp1JzxusG1iSc\" name=\"baidu-site-verification\"/>\n",
       "<title>PChome ç·ä¸è³¼ç© - ååæå°</title>\n",
       "<link href=\"/opensearch_shopping.xml\" rel=\"search\" title=\"PChome ç·ä¸è³¼ç© ååæå°\" type=\"application/opensearchdescription+xml\"/>\n",
       "<link href=\"//shopping.pchome.com.tw/min/g=ecshweb-shv3.3-cssv2&amp;201612091230\" rel=\"stylesheet\" type=\"text/css\"/>\n",
       "<script src=\"/min/g=v3.3shjs&amp;20161207\" type=\"text/javascript\"></script>\n",
       "</head>\n",
       "<body>\n",
       "<div class=\"ecsite-layout style_shopping ecsite-search\" id=\"WRAPPER\">\n",
       "<!-- HEADER start -->\n",
       "<div id=\"HEADER\">\n",
       "<div class=\"block_H\">\n",
       "<div class=\"Ht\">\n",
       "<h1 class=\"logotype\"><a href=\"http://shopping.pchome.com.tw\">PChomeç·ä¸è³¼ç©</a></h1>\n",
       "<div class=\"site_nav\">\n",
       "<ul class=\"main_site\">\n",
       "<li><a href=\"http://shopping.pchome.com.tw\">ç·ä¸è³¼ç©</a></li>\n",
       "<li><a href=\"http://24h.pchome.com.tw\">24hè³¼ç©</a></li>\n",
       "<li><a href=\"http://mall.pchome.com.tw\">è³¼ç©ä¸­å¿</a></li>\n",
       "<li><a href=\"http://24h.pchome.com.tw/books\">æ¸åº</a></li>\n",
       "</ul>\n",
       "<ul class=\"sub_site\">\n",
       "<li><a href=\"http://global.pchome.com.tw\">å\n",
       "¨çè³¼ç©</a></li>\n",
       "</ul>\n",
       "<ul class=\"service\">\n",
       "<li><a _value=\"carttop\" class=\"cart cart_click\" href=\"http://shopping.pchome.com.tw/?mod=store&amp;func=choice_buy&amp;page_url=shopping&amp;NO=D&amp;C=D\">è³¼ç©è»</a></li>\n",
       "<li id=\"deposit\"><a href=\"http://24h.pchome.com.tw/region/DECJ\" target=\"_blank\">å²å¼</a></li>\n",
       "<li><a href=\"https://ecvip.pchome.com.tw/web/coupon\" id=\"coupon_count\">æå¹å¸(0)</a></li>\n",
       "<li><a href=\"https://ecvip.pchome.com.tw\">é¡§å®¢ä¸­å¿</a></li>\n",
       "<li><a href=\"https://ecvip.pchome.com.tw/?m=vendor\">å» ååä½</a></li>\n",
       "<li><a href=\"javascript:(location.href= 'https://ecvip.pchome.com.tw/?m=myaccount&amp;c=service&amp;f=showBugService&amp;url='+base64encode(window.location.href))\">æ\n",
       "ééå ±</a></li>\n",
       "<li><a href=\"http://www.pchome.com.tw\">PChome</a></li>\n",
       "</ul>\n",
       "</div>\n",
       "</div>\n",
       "</div>\n",
       "</div>\n",
       "<!-- HEADER end -->\n",
       "<div class=\"layout-wrapper\" id=\"CONTENT\">\n",
       "<div class=\"layout-center\">\n",
       "<!-- block_N start -->\n",
       "<div class=\"block_N\">\n",
       "<div class=\"Nt\">\n",
       "<ul class=\"breadcrumbs\">\n",
       "<li><a href=\"http://www.pchome.com.tw\">PChome</a></li>\n",
       "<li><a href=\"http://shopping.pchome.com.tw\">ç·ä¸è³¼ç©</a></li>\n",
       "<li><span>ååæå°çµæ</span></li>\n",
       "</ul>\n",
       "</div>\n",
       "<div class=\"Nm\">\n",
       "<ul class=\"searchfield\">\n",
       "<li><input class=\"text\" id=\"keyword\" placeholder=\"è«è¼¸å\n",
       "¥ééµå­\" type=\"text\"/></li>\n",
       "<li><input class=\"button\" id=\"btn_search\" type=\"button\" value=\"æ¾åå\"/></li>\n",
       "<li><a href=\"https://ecvip.pchome.com.tw/?m=myaccount&amp;c=service&amp;f=showSearchService\">è²·ä¸å°éç¥æï¼</a></li>\n",
       "</ul>\n",
       "<div class=\"msg_box\"><span id=\"SearchInfo\"></span></div>\n",
       "</div>\n",
       "<div class=\"Nb\">\n",
       "<p class=\"unblock\">æ¨æ¯ä¸æ¯è¦æ¥ï¼<span id=\"SpellCheckContainer\"></span></p>\n",
       "<ul class=\"keyword_box\" id=\"TagsContainer\"></ul>\n",
       "</div>\n",
       "</div>\n",
       "<!-- block_N end -->\n",
       "<!-- block_W start -->\n",
       "<dl class=\"block_W\">\n",
       "<dt>ä¾é¤¨å¥é¡¯ç¤ºâ</dt>\n",
       "<dd id=\"CategoryContainer\"></dd>\n",
       "</dl>\n",
       "<!-- block_W end -->\n",
       "<!-- block_C start -->\n",
       "<div class=\"block_C s_list\">\n",
       "<!-- Cm start -->\n",
       "<div class=\"Cm\">\n",
       "<div class=\"Cm_N\">\n",
       "<div class=\"bar_showmode\" id=\"SwitchBar\">\n",
       "<dl class=\"left\">\n",
       "<dt>æå°ï¼</dt>\n",
       "<dd class=\"Scope\"><a href=\"javascript:void(0);\">å\n",
       "¨é¨</a></dd>\n",
       "<dd class=\"Scope\"><a href=\"javascript:void(0);\">24H</a></dd>\n",
       "<dd class=\"Scope\"><a href=\"javascript:void(0);\">24Hæ¸åº</a></dd>\n",
       "<dd class=\"Scope\"><a href=\"javascript:void(0);\">è³¼ç©ä¸­å¿</a></dd>\n",
       "</dl>\n",
       "<dl class=\"right\">\n",
       "<dt>æåºï¼</dt>\n",
       "<dd class=\"Sort\"><a href=\"javascript:void(0);\">ç²¾æºåº¦</a></dd>\n",
       "<dd class=\"Sort\"><a href=\"javascript:void(0);\">æè²¨åªå\n",
       "</a></dd>\n",
       "<dd class=\"Sort\"><a href=\"javascript:void(0);\">å¹é¢ç±é«è³ä½</a></dd>\n",
       "<dd class=\"Sort\"><a href=\"javascript:void(0);\">å¹é¢ç±ä½è³é«</a></dd>\n",
       "<dd class=\"Sort\"><a href=\"javascript:void(0);\">æ°ä¸å¸</a></dd>\n",
       "</dl>\n",
       "</div>\n",
       "<div class=\"bar_spinbtn\">\n",
       "          å¹æ ¼ç¯åï¼\n",
       "          <input class=\"spinbtn text\" id=\"MinPrice\" type=\"text\"/>ï½<input class=\"spinbtn text\" id=\"MaxPrice\" type=\"text\"/>\n",
       "<input class=\"button\" id=\"btn_PRC\" type=\"button\" value=\"æå°\"/>\n",
       "</div>\n",
       "<div class=\"bar_noprod unblock\" id=\"notfound_cate\">æ¬é¡å¥æå°ä¸å°æ¨è¦çååï¼</div>\n",
       "<div class=\"bar_noprod unblock\" id=\"notfound\">æ¾ä¸å°è<span class=\"value\" id=\"noprod\"></span>æéçç¢å</div>\n",
       "</div>\n",
       "<div class=\"Cm_C\" id=\"ItemContainer\"></div>\n",
       "</div>\n",
       "<!-- Cm -->\n",
       "<!-- Cb -->\n",
       "<div class=\"Cb\">\n",
       "<div class=\"ui-loading unblock\" id=\"DataLoader\">\n",
       "<ul><li class=\"loading bert\">è®åä¸­</li></ul>\n",
       "</div>\n",
       "<!-- pagination start -->\n",
       "<div class=\"pagination\">\n",
       "<div class=\"msg_box unblock\" id=\"MoreInfo\">ç±æ¼æå°çµæç­æ¸è¼å¤ï¼å»ºè­°æ¨èª¿æ´æåºæ¹å¼ æ ç¯©é¸åååé¡ <a class=\"goTop\" href=\"javascript:void(0);\">åé é¨è¨­å®â</a></div>\n",
       "</div>\n",
       "<!-- pagination end -->\n",
       "</div>\n",
       "</div>\n",
       "<!-- block_C end -->\n",
       "<!-- block_S start -->\n",
       "<div class=\"block_S go_top\" id=\"goTopBar\">\n",
       "<a class=\"goTop\" href=\"javascript:void(0);\">åTOP</a>\n",
       "</div>\n",
       "<!-- block_S end -->\n",
       "</div>\n",
       "<div class=\"layout-east\">\n",
       "<!-- å¿«æ·åè½å start-->\n",
       "<ul class=\"toolbar\" id=\"toolbar\">\n",
       "<li _value=\"cart\" class=\"toolbar_click\"><a class=\"ico cart\" href=\"http://shopping.pchome.com.tw/?mod=store&amp;func=choice_buy&amp;page_url=shopping&amp;NO=D&amp;C=D\">è³¼ç©è»<span class=\"amount unblock\"></span></a><a class=\"msg\" href=\"http://shopping.pchome.com.tw/?mod=store&amp;func=choice_buy&amp;page_url=shopping&amp;NO=D&amp;C=D\">è³¼ç©è»</a></li>\n",
       "<li _value=\"coupon\" class=\"toolbar_click\"><a class=\"ico coupon\" href=\"https://ecvip.pchome.com.tw/web/coupon\">æå¹å¸</a><a class=\"msg\" href=\"https://ecvip.pchome.com.tw/web/coupon\">æå¹å¸</a></li>\n",
       "<li _value=\"browse\" class=\"toolbar_click\" id=\"BrowseRecord\">\n",
       "<a class=\"ico browse\" href=\"https://ecvip.pchome.com.tw/?0x3aeac70a06872cfa63d19a20ea6eaf67e2e2bd7c2e68123d2b5669f3bdd69b313d405cc47a96cac9\" target=\"_blank\">çè¦½ç´é</a>\n",
       "<a class=\"msg\" href=\"https://ecvip.pchome.com.tw/?0x3aeac70a06872cfa63d19a20ea6eaf67e2e2bd7c2e68123d2b5669f3bdd69b313d405cc47a96cac9\" id=\"RecordTag\" target=\"_blank\">çè¦½ç´é</a>\n",
       "<dl class=\"overlay_browse\" id=\"RecordBlock\">\n",
       "<dt>çè¦½ç´é</dt>\n",
       "<dd>\n",
       "<dl id=\"RecordList\"></dl>\n",
       "<a _value=\"browse-more\" class=\"toolbar_click\" href=\"https://ecvip.pchome.com.tw/?0x3aeac70a06872cfa63d19a20ea6eaf67e2e2bd7c2e68123d2b5669f3bdd69b313d405cc47a96cac9\" id=\"RecordFooter\" target=\"_blank\">more</a>\n",
       "</dd>\n",
       "</dl>\n",
       "</li>\n",
       "<li _value=\"trace\" class=\"toolbar_click\"><a class=\"ico trace\" href=\"https://ecvip.pchome.com.tw/?0xad70a21315391f5263d19a20ea6eaf679683275ee94981ab4d9ee8a8f55af4dbf93547f92611bcb319fe86d003de3ce7\" target=\"_blank\">è¿½è¹¤æ¸\n",
       "å®</a><a class=\"msg\" href=\"https://ecvip.pchome.com.tw/?0xad70a21315391f5263d19a20ea6eaf679683275ee94981ab4d9ee8a8f55af4dbf93547f92611bcb319fe86d003de3ce7\" target=\"_blank\">è¿½è¹¤æ¸\n",
       "å®</a></li>\n",
       "<li _value=\"top\" class=\"toolbar_click\"><span class=\"ico gotop goTop\">åTOP</span><span class=\"msg goTop\">åTOP</span></li>\n",
       "</ul>\n",
       "<!-- å¿«æ·åè½å end-->\n",
       "</div>\n",
       "</div>\n",
       "<!-- CONTENT end -->\n",
       "<!-- FOOTER start -->\n",
       "<div id=\"FOOTER\">\n",
       "<p><a href=\"http://shopping.pchome.com.tw\">PChomeç·ä¸è³¼ç©</a><b>-</b>ç¶²è·¯å®¶åº­åéè³è¨è¡ä»½æéå\n",
       "¬å¸ çæ¬ææâ§è½è¼å¿\n",
       "ç©¶<a href=\"https://ecvip.pchome.com.tw/contact/\">è¯çµ¡æå</a><a class=\"sp\" href=\"http://faq.pchome.com.tw/faq_solution.html?q_id=16&amp;c_nickname=member&amp;f_id=4\">é±ç§æ¬è²æ</a></p>\n",
       "<p>106 å°åå¸å¤§å®åæ¦ååè·¯äºæ®µ105è15æ¨ãé»è©±(ä¸å«ä¾åæ¥)ï¼02-2326-1460<span>(æ¬å\n",
       "¬å¸ä¸æä»¥æ­¤é»è©±èç¢¼æ¥æçµ¦æ¨ï¼å¦æä¾é»é¡¯ç¤ºæ­¤èç¢¼ï¼è«å¿çæ)</span></p>\n",
       "<p class=\"sp\">PChome and PChome Online are trademarks of PChome Online Inc.</p>\n",
       "<p>æ¬ç¶²ç«ç¢åå·²æä¿æ°å\n",
       "ç¢ç©ç¢åè²¬ä»»ä¿éª$150,000,000å\n",
       "ã(ä¿éªè­èï¼130005AKP0000810)</p>\n",
       "</div>\n",
       "<!-- FOOTER end -->\n",
       "<!--è³¼ç©è» start-->\n",
       "<div class=\"site_cart\" id=\"cart\">\n",
       "<span class=\"msg unblock\" id=\"CartLoader\">å å\n",
       "¥è³¼ç©è»ä¸­â¦</span>\n",
       "<a _value=\"cartbelow\" class=\"cart cart_click\" href=\"http://shopping.pchome.com.tw/?mod=store&amp;func=choice_buy&amp;page_url=shopping&amp;NO=D&amp;C=D\" id=\"CartBox\" style=\"display:none\">\n",
       "<span class=\"price\"></span>\n",
       "<span class=\"amount\"></span>\n",
       "<span class=\"check\">çµå¸³&gt;</span>\n",
       "</a>\n",
       "</div>\n",
       "<!--è³¼ç©è» end-->\n",
       "</div>\n",
       "</body>\n",
       "</html>"
      ]
     },
     "execution_count": 161,
     "metadata": {},
     "output_type": "execute_result"
    }
   ],
   "source": [
    "pchome_html"
   ]
  },
  {
   "cell_type": "code",
   "execution_count": 162,
   "metadata": {
    "collapsed": false
   },
   "outputs": [
    {
     "name": "stdout",
     "output_type": "stream",
     "text": [
      "《新機上市》▼4K畫質娛樂體驗PlayStation\n"
     ]
    }
   ],
   "source": [
    "print('\\u300a\\u65b0\\u6a5f\\u4e0a\\u5e02\\u300b\\u25bc4K\\u756b\\u8cea\\u5a1b\\u6a02\\u9ad4\\u9a57PlayStation')"
   ]
  }
 ],
 "metadata": {
  "anaconda-cloud": {},
  "kernelspec": {
   "display_name": "Python [conda root]",
   "language": "python",
   "name": "conda-root-py"
  },
  "language_info": {
   "codemirror_mode": {
    "name": "ipython",
    "version": 3
   },
   "file_extension": ".py",
   "mimetype": "text/x-python",
   "name": "python",
   "nbconvert_exporter": "python",
   "pygments_lexer": "ipython3",
   "version": "3.5.2"
  },
  "nbpresent": {
   "slides": {
    "15f786ef-3d69-4617-abfb-08dbac2a0763": {
     "id": "15f786ef-3d69-4617-abfb-08dbac2a0763",
     "prev": "972cbde1-de0e-4b7a-b302-c39424f75a18",
     "regions": {
      "c97977d6-88f3-4ba4-ad1c-8440f6a18f97": {
       "attrs": {
        "height": 0.8,
        "width": 0.8,
        "x": 0.1,
        "y": 0.1
       },
       "content": {
        "cell": "f0f37eff-a831-45f2-8eb6-b38b96c3b6cd",
        "part": "whole"
       },
       "id": "c97977d6-88f3-4ba4-ad1c-8440f6a18f97"
      }
     }
    },
    "1846a36b-a146-4727-910d-d5925302ca02": {
     "id": "1846a36b-a146-4727-910d-d5925302ca02",
     "prev": "97f1ce5d-36f5-4549-b40e-13b0b440f06f",
     "regions": {
      "c25c54d2-1954-461f-bee4-4b6077f4ac7a": {
       "attrs": {
        "height": 0.8,
        "width": 0.8,
        "x": 0.1,
        "y": 0.1
       },
       "content": {
        "cell": "24b21ad2-92bc-47b4-a6ac-5ee12d244fdf",
        "part": "whole"
       },
       "id": "c25c54d2-1954-461f-bee4-4b6077f4ac7a"
      }
     }
    },
    "1b4e3ecc-a925-4446-adad-aed44a667710": {
     "id": "1b4e3ecc-a925-4446-adad-aed44a667710",
     "prev": "22516984-aad2-449f-9776-a79cc75ada98",
     "regions": {
      "644b3677-ecb3-406e-8b67-22adf518e2e3": {
       "attrs": {
        "height": 0.8,
        "width": 0.8,
        "x": 0.1,
        "y": 0.1
       },
       "content": {
        "cell": "da7b665d-f972-45a2-b0db-70273556205f",
        "part": "whole"
       },
       "id": "644b3677-ecb3-406e-8b67-22adf518e2e3"
      }
     }
    },
    "2232e01d-4fbe-46db-a90a-0dc54f91979e": {
     "id": "2232e01d-4fbe-46db-a90a-0dc54f91979e",
     "prev": "15f786ef-3d69-4617-abfb-08dbac2a0763",
     "regions": {
      "533eb0af-9b26-4ba4-8eb2-b5a5de345159": {
       "attrs": {
        "height": 0.8,
        "width": 0.8,
        "x": 0.1,
        "y": 0.1
       },
       "content": {
        "cell": "490ed2b4-4f50-49b4-9507-6e5303c55baf",
        "part": "whole"
       },
       "id": "533eb0af-9b26-4ba4-8eb2-b5a5de345159"
      }
     }
    },
    "22516984-aad2-449f-9776-a79cc75ada98": {
     "id": "22516984-aad2-449f-9776-a79cc75ada98",
     "prev": "b42ae53a-fcea-4592-81fa-9f98e9acbe52",
     "regions": {
      "78ceeed3-65d1-42c4-b324-7a4c88594da0": {
       "attrs": {
        "height": 0.8,
        "width": 0.8,
        "x": 0.1,
        "y": 0.1
       },
       "content": {
        "cell": "a80f6b88-3b46-428f-9088-8b61b8793734",
        "part": "whole"
       },
       "id": "78ceeed3-65d1-42c4-b324-7a4c88594da0"
      }
     }
    },
    "2c49d3dd-b7a8-48ac-80c3-ecb038e698d4": {
     "id": "2c49d3dd-b7a8-48ac-80c3-ecb038e698d4",
     "prev": "d90d7b1f-ace8-4786-88cc-256fd1f22ddd",
     "regions": {
      "be3ca948-d275-4ec6-9ae3-d7c44dfed044": {
       "attrs": {
        "height": 0.8,
        "width": 0.8,
        "x": 0.1,
        "y": 0.1
       },
       "content": {
        "cell": "b9cc4f54-5e68-4f38-b259-634c39f4fdaa",
        "part": "whole"
       },
       "id": "be3ca948-d275-4ec6-9ae3-d7c44dfed044"
      }
     }
    },
    "3751ac10-5590-43e3-8973-232d28e06052": {
     "id": "3751ac10-5590-43e3-8973-232d28e06052",
     "prev": "e1fb78c7-6479-484e-b54c-fae55c3a977b",
     "regions": {
      "8df04fc9-2524-4496-bb2c-81be859ab8fa": {
       "attrs": {
        "height": 0.8,
        "width": 0.8,
        "x": 0.1,
        "y": 0.1
       },
       "content": {
        "cell": "5fc82e21-f51a-43bf-8eb9-4706e21d617c",
        "part": "whole"
       },
       "id": "8df04fc9-2524-4496-bb2c-81be859ab8fa"
      }
     }
    },
    "43cd381a-d7ef-4788-9c4a-365db1052fa8": {
     "id": "43cd381a-d7ef-4788-9c4a-365db1052fa8",
     "prev": "a30da588-8c38-4b41-a310-7f2d8033f7ee",
     "regions": {
      "b30aa868-1df7-45a0-8b32-98719cd231b2": {
       "attrs": {
        "height": 0.8,
        "width": 0.8,
        "x": 0.1,
        "y": 0.1
       },
       "content": {
        "cell": "7fc768ea-9b1a-4fe3-b977-b73a554f5cc9",
        "part": "whole"
       },
       "id": "b30aa868-1df7-45a0-8b32-98719cd231b2"
      }
     }
    },
    "5a87220d-5571-4c71-9a74-e22da684b05b": {
     "id": "5a87220d-5571-4c71-9a74-e22da684b05b",
     "prev": "f13b6bcc-d223-43d8-b0fa-6ad97eacb712",
     "regions": {
      "f4924210-a7bd-407f-918c-e2072b730f01": {
       "attrs": {
        "height": 0.8,
        "width": 0.8,
        "x": 0.1,
        "y": 0.1
       },
       "content": {
        "cell": "912f46ec-9a84-49c6-b757-9848f562dc41",
        "part": "whole"
       },
       "id": "f4924210-a7bd-407f-918c-e2072b730f01"
      }
     }
    },
    "66a120e0-46e8-492c-a844-e6ececf4859e": {
     "id": "66a120e0-46e8-492c-a844-e6ececf4859e",
     "prev": "9e4ecbd9-f4ae-489a-8729-9bc2e3c1e705",
     "regions": {
      "21087c18-b35b-432b-a6ea-f025af7f4ca0": {
       "attrs": {
        "height": 0.8,
        "width": 0.8,
        "x": 0.1,
        "y": 0.1
       },
       "content": {
        "cell": "00abc9d8-1a1f-46ff-bcd3-b9b21519182b",
        "part": "whole"
       },
       "id": "21087c18-b35b-432b-a6ea-f025af7f4ca0"
      }
     }
    },
    "9666eada-7525-4121-94d4-1552f915df3d": {
     "id": "9666eada-7525-4121-94d4-1552f915df3d",
     "prev": "66a120e0-46e8-492c-a844-e6ececf4859e",
     "regions": {
      "62e619ba-f95b-4119-b226-60d28c5a7c5d": {
       "attrs": {
        "height": 0.8,
        "width": 0.8,
        "x": 0.1,
        "y": 0.1
       },
       "content": {
        "cell": "fbb135c3-ac89-49bf-a4d7-6a5a123a7301",
        "part": "whole"
       },
       "id": "62e619ba-f95b-4119-b226-60d28c5a7c5d"
      }
     }
    },
    "972cbde1-de0e-4b7a-b302-c39424f75a18": {
     "id": "972cbde1-de0e-4b7a-b302-c39424f75a18",
     "prev": "2c49d3dd-b7a8-48ac-80c3-ecb038e698d4",
     "regions": {
      "981df6ea-6ee6-456d-b453-84fd70641fa0": {
       "attrs": {
        "height": 0.8,
        "width": 0.8,
        "x": 0.1,
        "y": 0.1
       },
       "content": {
        "cell": "d62eebb9-d132-4261-975c-fe1e05636fb4",
        "part": "whole"
       },
       "id": "981df6ea-6ee6-456d-b453-84fd70641fa0"
      }
     }
    },
    "97f1ce5d-36f5-4549-b40e-13b0b440f06f": {
     "id": "97f1ce5d-36f5-4549-b40e-13b0b440f06f",
     "prev": "b49d619a-ffb2-4436-8108-e799f7756310",
     "regions": {
      "75559cca-ba21-4b51-b416-9bb8c30a1d41": {
       "attrs": {
        "height": 0.8,
        "width": 0.8,
        "x": 0.1,
        "y": 0.1
       },
       "content": {
        "cell": "f291d0b4-2b0d-428f-99f5-93985ac76682",
        "part": "whole"
       },
       "id": "75559cca-ba21-4b51-b416-9bb8c30a1d41"
      }
     }
    },
    "9e4ecbd9-f4ae-489a-8729-9bc2e3c1e705": {
     "id": "9e4ecbd9-f4ae-489a-8729-9bc2e3c1e705",
     "prev": "d7697a31-3af6-4e33-9e84-1dc2b63d5446",
     "regions": {
      "fc57f2a4-7fbf-425c-b2a2-b99257fc20bc": {
       "attrs": {
        "height": 0.8,
        "width": 0.8,
        "x": 0.1,
        "y": 0.1
       },
       "content": {
        "cell": "4a42566b-a29b-4b36-a8ad-cadae376e802",
        "part": "whole"
       },
       "id": "fc57f2a4-7fbf-425c-b2a2-b99257fc20bc"
      }
     }
    },
    "a30da588-8c38-4b41-a310-7f2d8033f7ee": {
     "id": "a30da588-8c38-4b41-a310-7f2d8033f7ee",
     "prev": "a8dce05a-4d35-4a09-9f52-de0191a28957",
     "regions": {
      "f8dcf393-1d45-46b7-b1da-12f01c0b8d02": {
       "attrs": {
        "height": 0.8,
        "width": 0.8,
        "x": 0.1,
        "y": 0.1
       },
       "content": {
        "cell": "1da15dea-47e8-4111-ad92-8dfa1dbbc078",
        "part": "whole"
       },
       "id": "f8dcf393-1d45-46b7-b1da-12f01c0b8d02"
      }
     }
    },
    "a8dce05a-4d35-4a09-9f52-de0191a28957": {
     "id": "a8dce05a-4d35-4a09-9f52-de0191a28957",
     "prev": "9666eada-7525-4121-94d4-1552f915df3d",
     "regions": {
      "9c1f7f6f-4059-4867-a740-dbfb6f6184c3": {
       "attrs": {
        "height": 0.8,
        "width": 0.8,
        "x": 0.1,
        "y": 0.1
       },
       "content": {
        "cell": "56416e40-054d-4ad5-8e01-4476b8f548ba",
        "part": "whole"
       },
       "id": "9c1f7f6f-4059-4867-a740-dbfb6f6184c3"
      }
     }
    },
    "b42ae53a-fcea-4592-81fa-9f98e9acbe52": {
     "id": "b42ae53a-fcea-4592-81fa-9f98e9acbe52",
     "prev": "2232e01d-4fbe-46db-a90a-0dc54f91979e",
     "regions": {
      "7bb7bf42-55b8-4899-b858-2118e758b83e": {
       "attrs": {
        "height": 0.8,
        "width": 0.8,
        "x": 0.1,
        "y": 0.1
       },
       "content": {
        "cell": "92b8c13a-29ce-4dd9-ae55-31a2f37f8830",
        "part": "whole"
       },
       "id": "7bb7bf42-55b8-4899-b858-2118e758b83e"
      }
     }
    },
    "b49d619a-ffb2-4436-8108-e799f7756310": {
     "id": "b49d619a-ffb2-4436-8108-e799f7756310",
     "prev": "d3f0cb09-435a-4f8d-8d52-7e13eea10986",
     "regions": {
      "6162b3fd-ef2e-49c4-89cc-7cbcd03cbfd4": {
       "attrs": {
        "height": 0.8,
        "width": 0.8,
        "x": 0.1,
        "y": 0.1
       },
       "content": {
        "cell": "f777b726-20ae-4045-8ffe-ec22049e1f90",
        "part": "whole"
       },
       "id": "6162b3fd-ef2e-49c4-89cc-7cbcd03cbfd4"
      }
     }
    },
    "cd6ac310-d400-4f8e-b8bb-ff1b82766f57": {
     "id": "cd6ac310-d400-4f8e-b8bb-ff1b82766f57",
     "prev": null,
     "regions": {
      "dc5d0ed8-3828-4957-93d9-cb3aa43e1ce9": {
       "attrs": {
        "height": 0.8,
        "width": 0.8,
        "x": 0.05451668748608843,
        "y": 0.1
       },
       "content": {
        "cell": "01641c17-d8ff-49ef-bef8-3ebe579e6cbc",
        "part": "whole"
       },
       "id": "dc5d0ed8-3828-4957-93d9-cb3aa43e1ce9"
      }
     }
    },
    "d3f0cb09-435a-4f8d-8d52-7e13eea10986": {
     "id": "d3f0cb09-435a-4f8d-8d52-7e13eea10986",
     "prev": "ee804dfd-96d7-4b37-8c04-e410ff4d2830",
     "regions": {
      "e4e77b85-22dd-4434-aa10-eeea01f79c5d": {
       "attrs": {
        "height": 0.8,
        "width": 0.8,
        "x": 0.1,
        "y": 0.1
       },
       "content": {
        "cell": "b1937be8-3e32-4031-84fd-dedaa5fa2b56",
        "part": "whole"
       },
       "id": "e4e77b85-22dd-4434-aa10-eeea01f79c5d"
      }
     }
    },
    "d7697a31-3af6-4e33-9e84-1dc2b63d5446": {
     "id": "d7697a31-3af6-4e33-9e84-1dc2b63d5446",
     "prev": "3751ac10-5590-43e3-8973-232d28e06052",
     "regions": {
      "b0e5a3b2-f82a-4b63-b6cb-38573b1c8884": {
       "attrs": {
        "height": 0.8,
        "width": 0.8,
        "x": 0.1,
        "y": 0.1
       },
       "content": {
        "cell": "7ef4eeae-f50b-490f-a80e-7cd6d1c9c310",
        "part": "whole"
       },
       "id": "b0e5a3b2-f82a-4b63-b6cb-38573b1c8884"
      }
     }
    },
    "d90d7b1f-ace8-4786-88cc-256fd1f22ddd": {
     "id": "d90d7b1f-ace8-4786-88cc-256fd1f22ddd",
     "prev": "5a87220d-5571-4c71-9a74-e22da684b05b",
     "regions": {
      "4a70eb1b-d742-4285-9e76-79e21419291e": {
       "attrs": {
        "height": 0.8,
        "width": 0.8,
        "x": 0.1,
        "y": 0.1
       },
       "content": {
        "cell": "0aaea5e7-691f-4b64-94bb-f2223b523fd0",
        "part": "whole"
       },
       "id": "4a70eb1b-d742-4285-9e76-79e21419291e"
      }
     }
    },
    "e1fb78c7-6479-484e-b54c-fae55c3a977b": {
     "id": "e1fb78c7-6479-484e-b54c-fae55c3a977b",
     "prev": "1846a36b-a146-4727-910d-d5925302ca02",
     "regions": {
      "8fc46c2c-39ec-492c-a61e-c5d96067f229": {
       "attrs": {
        "height": 0.8,
        "width": 0.8,
        "x": 0.1,
        "y": 0.1
       },
       "content": {
        "cell": "e6f755a6-b353-416a-af52-c26b76141851",
        "part": "whole"
       },
       "id": "8fc46c2c-39ec-492c-a61e-c5d96067f229"
      }
     }
    },
    "ee804dfd-96d7-4b37-8c04-e410ff4d2830": {
     "id": "ee804dfd-96d7-4b37-8c04-e410ff4d2830",
     "prev": "1b4e3ecc-a925-4446-adad-aed44a667710",
     "regions": {
      "fa2752a4-61ca-4cc8-bafe-f5de919acbca": {
       "attrs": {
        "height": 0.8,
        "width": 0.8,
        "x": 0.1,
        "y": 0.1
       },
       "content": {
        "cell": "4999e3e2-e0c3-4331-bead-4f72720a93df",
        "part": "whole"
       },
       "id": "fa2752a4-61ca-4cc8-bafe-f5de919acbca"
      }
     }
    },
    "f13b6bcc-d223-43d8-b0fa-6ad97eacb712": {
     "id": "f13b6bcc-d223-43d8-b0fa-6ad97eacb712",
     "prev": "cd6ac310-d400-4f8e-b8bb-ff1b82766f57",
     "regions": {
      "5816470c-a3f3-4964-9f17-2448114dd183": {
       "attrs": {
        "height": 0.8,
        "width": 0.8,
        "x": 0.1,
        "y": 0.1
       },
       "content": {
        "cell": "98cbadcb-d349-407e-95f0-0c0c76f54a01",
        "part": "whole"
       },
       "id": "5816470c-a3f3-4964-9f17-2448114dd183"
      }
     }
    }
   },
   "themes": {
    "default": "e02f027f-15ab-4a3b-974d-58f9e9732d83",
    "theme": {
     "e02f027f-15ab-4a3b-974d-58f9e9732d83": {
      "backgrounds": {
       "dc7afa04-bf90-40b1-82a5-726e3cff5267": {
        "background-color": "31af15d2-7e15-44c5-ab5e-e04b16a89eff",
        "id": "dc7afa04-bf90-40b1-82a5-726e3cff5267"
       }
      },
      "id": "e02f027f-15ab-4a3b-974d-58f9e9732d83",
      "palette": {
       "19cc588f-0593-49c9-9f4b-e4d7cc113b1c": {
        "id": "19cc588f-0593-49c9-9f4b-e4d7cc113b1c",
        "rgb": [
         252,
         252,
         252
        ]
       },
       "31af15d2-7e15-44c5-ab5e-e04b16a89eff": {
        "id": "31af15d2-7e15-44c5-ab5e-e04b16a89eff",
        "rgb": [
         68,
         68,
         68
        ]
       },
       "50f92c45-a630-455b-aec3-788680ec7410": {
        "id": "50f92c45-a630-455b-aec3-788680ec7410",
        "rgb": [
         197,
         226,
         245
        ]
       },
       "c5cc3653-2ee1-402a-aba2-7caae1da4f6c": {
        "id": "c5cc3653-2ee1-402a-aba2-7caae1da4f6c",
        "rgb": [
         43,
         126,
         184
        ]
       },
       "efa7f048-9acb-414c-8b04-a26811511a21": {
        "id": "efa7f048-9acb-414c-8b04-a26811511a21",
        "rgb": [
         25.118061674008803,
         73.60176211453744,
         107.4819383259912
        ]
       }
      },
      "rules": {
       "a": {
        "color": "19cc588f-0593-49c9-9f4b-e4d7cc113b1c"
       },
       "blockquote": {
        "color": "50f92c45-a630-455b-aec3-788680ec7410",
        "font-size": 3
       },
       "code": {
        "font-family": "Anonymous Pro"
       },
       "h1": {
        "color": "19cc588f-0593-49c9-9f4b-e4d7cc113b1c",
        "font-family": "Merriweather",
        "font-size": 8
       },
       "h2": {
        "color": "19cc588f-0593-49c9-9f4b-e4d7cc113b1c",
        "font-family": "Merriweather",
        "font-size": 6
       },
       "h3": {
        "color": "50f92c45-a630-455b-aec3-788680ec7410",
        "font-family": "Lato",
        "font-size": 5.5
       },
       "h4": {
        "color": "c5cc3653-2ee1-402a-aba2-7caae1da4f6c",
        "font-family": "Lato",
        "font-size": 5
       },
       "h5": {
        "font-family": "Lato"
       },
       "h6": {
        "font-family": "Lato"
       },
       "h7": {
        "font-family": "Lato"
       },
       "li": {
        "color": "50f92c45-a630-455b-aec3-788680ec7410",
        "font-size": 3.25
       },
       "pre": {
        "font-family": "Anonymous Pro",
        "font-size": 4
       }
      },
      "text-base": {
       "color": "19cc588f-0593-49c9-9f4b-e4d7cc113b1c",
       "font-family": "Lato",
       "font-size": 4
      }
     }
    }
   }
  }
 },
 "nbformat": 4,
 "nbformat_minor": 0
}
